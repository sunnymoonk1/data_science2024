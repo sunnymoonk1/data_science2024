{
 "cells": [
  {
   "cell_type": "markdown",
   "id": "a07ff72f",
   "metadata": {},
   "source": [
    "# 20244252 류태양 (20241017)    \n",
    "- 7장 데이터를 리스트와 튜프로 묶어보자\n",
    "- 류태양   \n",
    "- 20244252  "
   ]
  },
  {
   "cell_type": "markdown",
   "id": "1fe5822c",
   "metadata": {},
   "source": [
    "## 오늘 배운 내용  \n",
    "1.  리스트가 무엇이고 생성하는 다양한 방법에 대해 배웠습니다.\n",
    "2.  리스트에 활용하는 함수와 연산자에 대해 배웠습니다."
   ]
  },
  {
   "cell_type": "markdown",
   "id": "e5f51d65",
   "metadata": {},
   "source": [
    "## 어려운 점들\n",
    "1.  리스트를 입력하는 함수에서 순차적으로 하지 않으면 다른 값이 나올 수 있는 상황이       생길 수 있을 것 같다.\n",
    "2.  외울게 좀 많습니다."
   ]
  },
  {
   "cell_type": "markdown",
   "id": "c7699f66",
   "metadata": {},
   "source": [
    "## 요점정리\n",
    "### 1) 리스트란 무엇인가?\n",
    "형태가 같은 데이터를 묶어서 저장하는 변수\n",
    "\n",
    "### 2) 리스트를 생성하는 방법은 무엇이 있는가?\n",
    "- 항목 = [값]\n",
    "- 항목 = list()\n",
    "- 항목.append()\n",
    "- list(range())\n",
    "\n",
    "### 3) 리스트에 적용하는 메소들에 대하여 간단히 설명하라\n",
    "- append : 리스트에 항목을 새롭게 추가할 때 사용한다.(단 리스트의 뒤쪽에만 추가한다.)\n",
    "- insert : append와 동일하게 함수를 사용하여 동적으로 항목을 추가하지만, 지정된 index 위치에 항목을 추가할 수 있다.\n",
    "- extend : 리스트를 기존 리스트에 삽입한다.\n",
    "- pop : remove와 같이 리스트에서 항목을 삭제하지만, 마지막 항목을 삭제 후 그 항목 값을 반환한다.\n",
    "- sort : 리스트를 정렬하기 위해 사용한다.\n",
    "\n",
    "### 4) 인덱싱과 슬라이싱은 무엇인가?\n",
    "- indexing : 특정 위치의 테이터를 직접 참조한다.\n",
    "- slicing : 리스트에서 여러 항목을 선택해서 새로운 리스트를 만드는 기능\n",
    "\n",
    "### 5) 리스트 함축(list comprehension)이란?\n",
    "- 리스트를 집합시켜 반복문을 사용하지 않아도 코드를 매우 간결하게 작성하여 매우 유용하다.\n",
    "\n",
    "### 6) 튜플(tuple)과 리스트의 차이는 무엇인가?\n",
    "튜플 : 튜플은 리스트와 달리 한 번 지정되면 변경할 수 없는 불변속성 자료형이라 구조가 단순해 리스트에 비해 접근 속도가 빠른 장점이 있다.  \n",
    "리스트 : 변경이 가능한 테이터 구조라서 항목을 추가하거나 제거할 수 있다.  "
   ]
  },
  {
   "cell_type": "code",
   "execution_count": 33,
   "id": "30a3f4da",
   "metadata": {},
   "outputs": [
    {
     "data": {
      "text/plain": [
       "[20, 'Ryoo', 93, 183]"
      ]
     },
     "execution_count": 33,
     "metadata": {},
     "output_type": "execute_result"
    }
   ],
   "source": [
    "my_info = [20, 'Ryoo', 93, 183]\n",
    "my_info"
   ]
  },
  {
   "cell_type": "code",
   "execution_count": 34,
   "id": "38887684",
   "metadata": {},
   "outputs": [
    {
     "data": {
      "text/plain": [
       "[]"
      ]
     },
     "execution_count": 34,
     "metadata": {},
     "output_type": "execute_result"
    }
   ],
   "source": [
    "my_info = list()\n",
    "my_info"
   ]
  },
  {
   "cell_type": "code",
   "execution_count": 35,
   "id": "95316e67",
   "metadata": {},
   "outputs": [
    {
     "data": {
      "text/plain": [
       "[]"
      ]
     },
     "execution_count": 35,
     "metadata": {},
     "output_type": "execute_result"
    }
   ],
   "source": [
    "my_info = []\n",
    "my_info"
   ]
  },
  {
   "cell_type": "code",
   "execution_count": 36,
   "id": "f6c6b7f9",
   "metadata": {},
   "outputs": [
    {
     "data": {
      "text/plain": [
       "[20]"
      ]
     },
     "execution_count": 36,
     "metadata": {},
     "output_type": "execute_result"
    }
   ],
   "source": [
    "my_info.append(20)\n",
    "my_info"
   ]
  },
  {
   "cell_type": "code",
   "execution_count": 37,
   "id": "3497cdc2",
   "metadata": {},
   "outputs": [
    {
     "data": {
      "text/plain": [
       "[20, 'Ryoo']"
      ]
     },
     "execution_count": 37,
     "metadata": {},
     "output_type": "execute_result"
    }
   ],
   "source": [
    "my_info.append('Ryoo')\n",
    "my_info"
   ]
  },
  {
   "cell_type": "code",
   "execution_count": 38,
   "id": "67a1f98b",
   "metadata": {},
   "outputs": [
    {
     "data": {
      "text/plain": [
       "[20, 183, 'Ryoo']"
      ]
     },
     "execution_count": 38,
     "metadata": {},
     "output_type": "execute_result"
    }
   ],
   "source": [
    "my_info.insert(1,183)\n",
    "my_info"
   ]
  },
  {
   "cell_type": "code",
   "execution_count": 18,
   "id": "911f97a0",
   "metadata": {},
   "outputs": [
    {
     "data": {
      "text/plain": [
       "[20, 183]"
      ]
     },
     "execution_count": 18,
     "metadata": {},
     "output_type": "execute_result"
    }
   ],
   "source": [
    "my_info.pop()\n",
    "my_info"
   ]
  },
  {
   "cell_type": "code",
   "execution_count": 39,
   "id": "9681a089",
   "metadata": {},
   "outputs": [
    {
     "data": {
      "text/plain": [
       "[20, 'Ryoo']"
      ]
     },
     "execution_count": 39,
     "metadata": {},
     "output_type": "execute_result"
    }
   ],
   "source": [
    "my_info.remove(183)\n",
    "my_info"
   ]
  },
  {
   "cell_type": "code",
   "execution_count": 40,
   "id": "7d26af11",
   "metadata": {},
   "outputs": [
    {
     "data": {
      "text/plain": [
       "[20, 'Ryoo', 'scnu', 'dept od A.I']"
      ]
     },
     "execution_count": 40,
     "metadata": {},
     "output_type": "execute_result"
    }
   ],
   "source": [
    "my_info.extend(['scnu', 'dept od A.I'])\n",
    "my_info"
   ]
  },
  {
   "cell_type": "code",
   "execution_count": 6,
   "id": "7204d53a",
   "metadata": {},
   "outputs": [],
   "source": [
    "numbers = [1, 5, 7, 8, 3]\n",
    "numbers.sort()"
   ]
  },
  {
   "cell_type": "code",
   "execution_count": 41,
   "id": "36cbc186",
   "metadata": {},
   "outputs": [
    {
     "data": {
      "text/plain": [
       "[1, 3, 5, 7, 8]"
      ]
     },
     "execution_count": 41,
     "metadata": {},
     "output_type": "execute_result"
    }
   ],
   "source": [
    "numbers"
   ]
  },
  {
   "cell_type": "code",
   "execution_count": 43,
   "id": "6a499efb",
   "metadata": {},
   "outputs": [
    {
     "data": {
      "text/plain": [
       "'scnu'"
      ]
     },
     "execution_count": 43,
     "metadata": {},
     "output_type": "execute_result"
    }
   ],
   "source": [
    "my_info[2]"
   ]
  },
  {
   "cell_type": "code",
   "execution_count": 44,
   "id": "641be6fd",
   "metadata": {},
   "outputs": [
    {
     "data": {
      "text/plain": [
       "[20, 'Ryoo', 'scnu', 'dept od A.I']"
      ]
     },
     "execution_count": 44,
     "metadata": {},
     "output_type": "execute_result"
    }
   ],
   "source": [
    "my_info"
   ]
  },
  {
   "cell_type": "code",
   "execution_count": 45,
   "id": "f7f564d5",
   "metadata": {},
   "outputs": [
    {
     "data": {
      "text/plain": [
       "['Ryoo', 'scnu']"
      ]
     },
     "execution_count": 45,
     "metadata": {},
     "output_type": "execute_result"
    }
   ],
   "source": [
    "my_info[1:3]"
   ]
  },
  {
   "cell_type": "code",
   "execution_count": 46,
   "id": "2c2169a6",
   "metadata": {},
   "outputs": [
    {
     "data": {
      "text/plain": [
       "[20, 'Ryoo', 'scnu']"
      ]
     },
     "execution_count": 46,
     "metadata": {},
     "output_type": "execute_result"
    }
   ],
   "source": [
    "my_info[:3]"
   ]
  },
  {
   "cell_type": "code",
   "execution_count": 47,
   "id": "4ce657ed",
   "metadata": {},
   "outputs": [
    {
     "data": {
      "text/plain": [
       "['scnu', 'dept od A.I']"
      ]
     },
     "execution_count": 47,
     "metadata": {},
     "output_type": "execute_result"
    }
   ],
   "source": [
    "my_info[2:]"
   ]
  },
  {
   "cell_type": "code",
   "execution_count": 48,
   "id": "864f958e",
   "metadata": {},
   "outputs": [
    {
     "data": {
      "text/plain": [
       "4"
      ]
     },
     "execution_count": 48,
     "metadata": {},
     "output_type": "execute_result"
    }
   ],
   "source": [
    "len(my_info)"
   ]
  },
  {
   "cell_type": "markdown",
   "id": "7d6154b3",
   "metadata": {},
   "source": [
    "## - 7단원 끝에 있는 핵심정리를 적어라"
   ]
  },
  {
   "cell_type": "code",
   "execution_count": 129,
   "id": "23712b21",
   "metadata": {},
   "outputs": [
    {
     "data": {
      "text/plain": [
       "[3, 9, 15, 21, 27, 33, 39, 45, 51, 57, 63, 69, 75, 81, 87, 93, 99]"
      ]
     },
     "execution_count": 129,
     "metadata": {},
     "output_type": "execute_result"
    }
   ],
   "source": [
    "# 3의 배수 이면서 홀수인 것들의 리스트(100보다 작은 수 중에서)\n",
    "numbers = []\n",
    "for x in range(0,100,3):\n",
    "    if x % 3 == 0 and x % 2 == 1:\n",
    "        numbers.append(x)\n",
    "\n",
    "numbers"
   ]
  },
  {
   "cell_type": "code",
   "execution_count": 130,
   "id": "e233eaab",
   "metadata": {},
   "outputs": [
    {
     "data": {
      "text/plain": [
       "[3, 9, 15, 21, 27, 33, 39, 45, 51, 57, 63, 69, 75, 81, 87, 93, 99]"
      ]
     },
     "execution_count": 130,
     "metadata": {},
     "output_type": "execute_result"
    }
   ],
   "source": [
    "number = [n for n in range(0, 100, 3) if n  % 2 == 1]\n",
    "number"
   ]
  },
  {
   "cell_type": "code",
   "execution_count": 131,
   "id": "e7df51f5",
   "metadata": {},
   "outputs": [
    {
     "data": {
      "text/plain": [
       "[3, 9, 15, 21, 27, 33, 39, 45, 51, 57, 63, 69, 75, 81, 87, 93, 99, 1000]"
      ]
     },
     "execution_count": 131,
     "metadata": {},
     "output_type": "execute_result"
    }
   ],
   "source": [
    "numbers.append(1000)\n",
    "numbers"
   ]
  },
  {
   "cell_type": "code",
   "execution_count": 100,
   "id": "01297292",
   "metadata": {},
   "outputs": [
    {
     "data": {
      "text/plain": [
       "True"
      ]
     },
     "execution_count": 100,
     "metadata": {},
     "output_type": "execute_result"
    }
   ],
   "source": [
    "15 in numbers"
   ]
  },
  {
   "cell_type": "code",
   "execution_count": 99,
   "id": "19d6ee76",
   "metadata": {},
   "outputs": [
    {
     "data": {
      "text/plain": [
       "False"
      ]
     },
     "execution_count": 99,
     "metadata": {},
     "output_type": "execute_result"
    }
   ],
   "source": [
    "15 not in numbers"
   ]
  },
  {
   "cell_type": "code",
   "execution_count": 132,
   "id": "6a7fd618",
   "metadata": {},
   "outputs": [
    {
     "data": {
      "text/plain": [
       "list"
      ]
     },
     "execution_count": 132,
     "metadata": {},
     "output_type": "execute_result"
    }
   ],
   "source": [
    "type(numbers)"
   ]
  },
  {
   "cell_type": "code",
   "execution_count": 133,
   "id": "293a575f",
   "metadata": {},
   "outputs": [
    {
     "data": {
      "text/plain": [
       "27"
      ]
     },
     "execution_count": 133,
     "metadata": {},
     "output_type": "execute_result"
    }
   ],
   "source": [
    "numbers[4]"
   ]
  },
  {
   "cell_type": "code",
   "execution_count": 134,
   "id": "ed30d0b0",
   "metadata": {},
   "outputs": [
    {
     "data": {
      "text/plain": [
       "99"
      ]
     },
     "execution_count": 134,
     "metadata": {},
     "output_type": "execute_result"
    }
   ],
   "source": [
    "numbers[-2]"
   ]
  },
  {
   "cell_type": "code",
   "execution_count": null,
   "id": "dce6011f",
   "metadata": {},
   "outputs": [],
   "source": [
    "# numbers"
   ]
  },
  {
   "cell_type": "code",
   "execution_count": 137,
   "id": "ef2adaab",
   "metadata": {},
   "outputs": [
    {
     "data": {
      "text/plain": [
       "[27, 33, 39, 45, 51, 57, 63]"
      ]
     },
     "execution_count": 137,
     "metadata": {},
     "output_type": "execute_result"
    }
   ],
   "source": [
    "numbers[4:11]"
   ]
  },
  {
   "cell_type": "code",
   "execution_count": 138,
   "id": "b6c5ed7f",
   "metadata": {},
   "outputs": [
    {
     "data": {
      "text/plain": [
       "[3, 9, 15, 21, 27]"
      ]
     },
     "execution_count": 138,
     "metadata": {},
     "output_type": "execute_result"
    }
   ],
   "source": [
    "numbers[:5]"
   ]
  },
  {
   "cell_type": "code",
   "execution_count": 139,
   "id": "05d7a87b",
   "metadata": {},
   "outputs": [
    {
     "data": {
      "text/plain": [
       "[81, 87, 93, 99, 1000]"
      ]
     },
     "execution_count": 139,
     "metadata": {},
     "output_type": "execute_result"
    }
   ],
   "source": [
    "numbers[-5:]"
   ]
  },
  {
   "cell_type": "code",
   "execution_count": 107,
   "id": "5cfa60c9",
   "metadata": {},
   "outputs": [
    {
     "data": {
      "text/plain": [
       "[3, 15, 27, 39, 51, 63, 75, 87, 99]"
      ]
     },
     "execution_count": 107,
     "metadata": {},
     "output_type": "execute_result"
    }
   ],
   "source": [
    "numbers[::2]"
   ]
  },
  {
   "cell_type": "code",
   "execution_count": 108,
   "id": "9852d4fb",
   "metadata": {},
   "outputs": [
    {
     "data": {
      "text/plain": [
       "[3, 9, 15, 21, 27, 33, 39, 45, 51, 57, 63, 69, 75, 81, 87, 93, 99, 1000]"
      ]
     },
     "execution_count": 108,
     "metadata": {},
     "output_type": "execute_result"
    }
   ],
   "source": [
    "numbers"
   ]
  },
  {
   "cell_type": "code",
   "execution_count": 140,
   "id": "70e33c2c",
   "metadata": {},
   "outputs": [
    {
     "data": {
      "text/plain": [
       "[3, 9, 15, 9999, 21, 27, 33, 39, 45, 51, 57, 63, 69, 75, 81, 87, 93, 99, 1000]"
      ]
     },
     "execution_count": 140,
     "metadata": {},
     "output_type": "execute_result"
    }
   ],
   "source": [
    "numbers.insert(3, 9999)\n",
    "numbers"
   ]
  },
  {
   "cell_type": "code",
   "execution_count": 141,
   "id": "15db7764",
   "metadata": {},
   "outputs": [
    {
     "data": {
      "text/plain": [
       "[3, 9, 15, 21, 27, 33, 39, 45, 51, 57, 63, 69, 75, 81, 87, 93, 99, 1000]"
      ]
     },
     "execution_count": 141,
     "metadata": {},
     "output_type": "execute_result"
    }
   ],
   "source": [
    "numbers.remove(9999)\n",
    "numbers"
   ]
  },
  {
   "cell_type": "code",
   "execution_count": 113,
   "id": "0060d1f9",
   "metadata": {},
   "outputs": [
    {
     "data": {
      "text/plain": [
       "1000"
      ]
     },
     "execution_count": 113,
     "metadata": {},
     "output_type": "execute_result"
    }
   ],
   "source": [
    "numbers.pop()"
   ]
  },
  {
   "cell_type": "code",
   "execution_count": 142,
   "id": "a2c3b4e4",
   "metadata": {},
   "outputs": [
    {
     "data": {
      "text/plain": [
       "[3, 9, 15, 21, 27, 33, 39, 45, 51, 57, 63, 69, 75, 81, 87, 93, 99, 1000]"
      ]
     },
     "execution_count": 142,
     "metadata": {},
     "output_type": "execute_result"
    }
   ],
   "source": [
    "numbers"
   ]
  },
  {
   "cell_type": "code",
   "execution_count": 143,
   "id": "813338cd",
   "metadata": {},
   "outputs": [
    {
     "data": {
      "text/plain": [
       "2"
      ]
     },
     "execution_count": 143,
     "metadata": {},
     "output_type": "execute_result"
    }
   ],
   "source": [
    "number.index(15)"
   ]
  },
  {
   "cell_type": "code",
   "execution_count": 151,
   "id": "a4f48804",
   "metadata": {},
   "outputs": [
    {
     "data": {
      "text/plain": [
       "[5, 7, 1, 3, 9]"
      ]
     },
     "execution_count": 151,
     "metadata": {},
     "output_type": "execute_result"
    }
   ],
   "source": [
    "numbers = [5, 7, 1, 3, 9]\n",
    "numbers"
   ]
  },
  {
   "cell_type": "code",
   "execution_count": 148,
   "id": "625ae55e",
   "metadata": {},
   "outputs": [
    {
     "data": {
      "text/plain": [
       "[1, 3, 5, 7, 9]"
      ]
     },
     "execution_count": 148,
     "metadata": {},
     "output_type": "execute_result"
    }
   ],
   "source": [
    "numbers.sort()\n",
    "numbers"
   ]
  },
  {
   "cell_type": "code",
   "execution_count": 149,
   "id": "1d320073",
   "metadata": {},
   "outputs": [],
   "source": [
    "numbers.sort(reverse = True)"
   ]
  },
  {
   "cell_type": "code",
   "execution_count": 150,
   "id": "7d7da0d8",
   "metadata": {},
   "outputs": [
    {
     "data": {
      "text/plain": [
       "[9, 7, 5, 3, 1]"
      ]
     },
     "execution_count": 150,
     "metadata": {},
     "output_type": "execute_result"
    }
   ],
   "source": [
    "numbers"
   ]
  },
  {
   "cell_type": "code",
   "execution_count": 152,
   "id": "d0f42ca1",
   "metadata": {},
   "outputs": [
    {
     "data": {
      "text/plain": [
       "[1, 3, 5, 7, 9]"
      ]
     },
     "execution_count": 152,
     "metadata": {},
     "output_type": "execute_result"
    }
   ],
   "source": [
    "sorted(numbers)"
   ]
  },
  {
   "cell_type": "code",
   "execution_count": 157,
   "id": "9383819c",
   "metadata": {},
   "outputs": [
    {
     "data": {
      "text/plain": [
       "[5, 7, 1, 3, 9]"
      ]
     },
     "execution_count": 157,
     "metadata": {},
     "output_type": "execute_result"
    }
   ],
   "source": [
    "numbers"
   ]
  },
  {
   "cell_type": "code",
   "execution_count": 155,
   "id": "dc8bb442",
   "metadata": {},
   "outputs": [
    {
     "data": {
      "text/plain": [
       "[1, 3, 5, 7, 9]"
      ]
     },
     "execution_count": 155,
     "metadata": {},
     "output_type": "execute_result"
    }
   ],
   "source": [
    "sorted_numbers = sorted(numbers)\n",
    "sorted_numbers"
   ]
  },
  {
   "cell_type": "code",
   "execution_count": 156,
   "id": "9f868627",
   "metadata": {},
   "outputs": [
    {
     "data": {
      "text/plain": [
       "[5, 7, 1, 3, 9]"
      ]
     },
     "execution_count": 156,
     "metadata": {},
     "output_type": "execute_result"
    }
   ],
   "source": [
    "numbers"
   ]
  },
  {
   "cell_type": "markdown",
   "id": "7646aa5d",
   "metadata": {},
   "source": [
    "## 주관식 문제\n",
    "1. 리스트(list)\n",
    "2. 항목(item), 요소(element)\n",
    "3. append(항목)\n",
    "4. in, not in\n",
    "5. type()\n",
    "6. 인덱스(index)\n",
    "7. len()\n",
    "8. 슬라이싱(slicing)\n",
    "9. insert()\n",
    "10. remove()\n",
    "11. pop() \n",
    "12. del\n",
    "13. index()\n",
    "14. sort(), reverse()\n",
    "15. 튜플(tuple)\n",
    "16. 메소드(method)"
   ]
  },
  {
   "cell_type": "code",
   "execution_count": null,
   "id": "3108a5d5",
   "metadata": {},
   "outputs": [],
   "source": [
    "del numbers[4]"
   ]
  },
  {
   "cell_type": "code",
   "execution_count": 117,
   "id": "65bfbf66",
   "metadata": {},
   "outputs": [],
   "source": [
    "del numbers"
   ]
  },
  {
   "cell_type": "code",
   "execution_count": null,
   "id": "9235f917",
   "metadata": {},
   "outputs": [],
   "source": [
    "numbers"
   ]
  },
  {
   "cell_type": "markdown",
   "id": "22d13469",
   "metadata": {},
   "source": [
    "## 심화문제 (1017)"
   ]
  },
  {
   "cell_type": "code",
   "execution_count": 2,
   "id": "96eb38e5",
   "metadata": {},
   "outputs": [],
   "source": [
    "#7.1\n",
    "num_list = [500, 200, 400, 100, 800, 700, 300, 600]\n",
    "high = 6\n",
    "low = 3"
   ]
  },
  {
   "cell_type": "code",
   "execution_count": 3,
   "id": "b735f783",
   "metadata": {},
   "outputs": [
    {
     "data": {
      "text/plain": [
       "300"
      ]
     },
     "execution_count": 3,
     "metadata": {},
     "output_type": "execute_result"
    }
   ],
   "source": [
    "num_list[high]"
   ]
  },
  {
   "cell_type": "code",
   "execution_count": 4,
   "id": "11658321",
   "metadata": {},
   "outputs": [
    {
     "data": {
      "text/plain": [
       "800"
      ]
     },
     "execution_count": 4,
     "metadata": {},
     "output_type": "execute_result"
    }
   ],
   "source": [
    "num_list[high - 2]"
   ]
  },
  {
   "cell_type": "code",
   "execution_count": 5,
   "id": "3f872468",
   "metadata": {},
   "outputs": [
    {
     "data": {
      "text/plain": [
       "100"
      ]
     },
     "execution_count": 5,
     "metadata": {},
     "output_type": "execute_result"
    }
   ],
   "source": [
    "num_list[high - low]"
   ]
  },
  {
   "cell_type": "code",
   "execution_count": 6,
   "id": "db30b5f3",
   "metadata": {},
   "outputs": [
    {
     "data": {
      "text/plain": [
       "700"
      ]
     },
     "execution_count": 6,
     "metadata": {},
     "output_type": "execute_result"
    }
   ],
   "source": [
    "num_list[low - high]"
   ]
  },
  {
   "cell_type": "code",
   "execution_count": 7,
   "id": "546d3ccb",
   "metadata": {},
   "outputs": [
    {
     "data": {
      "text/plain": [
       "600"
      ]
     },
     "execution_count": 7,
     "metadata": {},
     "output_type": "execute_result"
    }
   ],
   "source": [
    "num_list[-1]"
   ]
  },
  {
   "cell_type": "code",
   "execution_count": 8,
   "id": "405fa834",
   "metadata": {},
   "outputs": [
    {
     "data": {
      "text/plain": [
       "700"
      ]
     },
     "execution_count": 8,
     "metadata": {},
     "output_type": "execute_result"
    }
   ],
   "source": [
    "num_list[-low]"
   ]
  },
  {
   "cell_type": "code",
   "execution_count": 9,
   "id": "64ae9a99",
   "metadata": {},
   "outputs": [
    {
     "data": {
      "text/plain": [
       "300"
      ]
     },
     "execution_count": 9,
     "metadata": {},
     "output_type": "execute_result"
    }
   ],
   "source": [
    "num_list[2 * 3]"
   ]
  },
  {
   "cell_type": "code",
   "execution_count": 10,
   "id": "ca4299fc",
   "metadata": {},
   "outputs": [
    {
     "data": {
      "text/plain": [
       "1200"
      ]
     },
     "execution_count": 10,
     "metadata": {},
     "output_type": "execute_result"
    }
   ],
   "source": [
    "num_list[2] * 3"
   ]
  },
  {
   "cell_type": "code",
   "execution_count": 11,
   "id": "00a26720",
   "metadata": {},
   "outputs": [
    {
     "data": {
      "text/plain": [
       "200"
      ]
     },
     "execution_count": 11,
     "metadata": {},
     "output_type": "execute_result"
    }
   ],
   "source": [
    "num_list[5 % 4]"
   ]
  },
  {
   "cell_type": "code",
   "execution_count": 12,
   "id": "20b1149a",
   "metadata": {},
   "outputs": [
    {
     "data": {
      "text/plain": [
       "8"
      ]
     },
     "execution_count": 12,
     "metadata": {},
     "output_type": "execute_result"
    }
   ],
   "source": [
    "len(num_list)"
   ]
  },
  {
   "cell_type": "code",
   "execution_count": 13,
   "id": "92f47fd0",
   "metadata": {},
   "outputs": [
    {
     "data": {
      "text/plain": [
       "100"
      ]
     },
     "execution_count": 13,
     "metadata": {},
     "output_type": "execute_result"
    }
   ],
   "source": [
    "min(num_list)"
   ]
  },
  {
   "cell_type": "code",
   "execution_count": 14,
   "id": "2777eeff",
   "metadata": {},
   "outputs": [
    {
     "data": {
      "text/plain": [
       "800"
      ]
     },
     "execution_count": 14,
     "metadata": {},
     "output_type": "execute_result"
    }
   ],
   "source": [
    "max(num_list)"
   ]
  },
  {
   "cell_type": "code",
   "execution_count": 15,
   "id": "41fb2bad",
   "metadata": {},
   "outputs": [
    {
     "data": {
      "text/plain": [
       "[500, 200, 400]"
      ]
     },
     "execution_count": 15,
     "metadata": {},
     "output_type": "execute_result"
    }
   ],
   "source": [
    "num_list[:3]"
   ]
  },
  {
   "cell_type": "code",
   "execution_count": 16,
   "id": "4c1ff1fa",
   "metadata": {},
   "outputs": [
    {
     "data": {
      "text/plain": [
       "[200, 400, 100, 800]"
      ]
     },
     "execution_count": 16,
     "metadata": {},
     "output_type": "execute_result"
    }
   ],
   "source": [
    "num_list[1:5]"
   ]
  },
  {
   "cell_type": "code",
   "execution_count": 17,
   "id": "53298554",
   "metadata": {},
   "outputs": [
    {
     "data": {
      "text/plain": [
       "[600, 300, 700, 800]"
      ]
     },
     "execution_count": 17,
     "metadata": {},
     "output_type": "execute_result"
    }
   ],
   "source": [
    "num_list[-1:-5:-1]"
   ]
  },
  {
   "cell_type": "code",
   "execution_count": 18,
   "id": "09f07110",
   "metadata": {},
   "outputs": [
    {
     "data": {
      "text/plain": [
       "[100, 800, 700, 300]"
      ]
     },
     "execution_count": 18,
     "metadata": {},
     "output_type": "execute_result"
    }
   ],
   "source": [
    "num_list[-5:-1:1]"
   ]
  },
  {
   "cell_type": "code",
   "execution_count": 42,
   "id": "251855d0",
   "metadata": {},
   "outputs": [
    {
     "name": "stdout",
     "output_type": "stream",
     "text": [
      "3  *  2  =  6\n",
      "3  *  3  =  9\n",
      "3  *  4  =  12\n",
      "3  *  5  =  15\n",
      "3  *  6  =  18\n",
      "5  *  2  =  10\n",
      "5  *  3  =  15\n",
      "5  *  4  =  20\n",
      "5  *  5  =  25\n",
      "5  *  6  =  30\n",
      "7  *  2  =  14\n",
      "7  *  3  =  21\n",
      "7  *  4  =  28\n",
      "7  *  5  =  35\n",
      "7  *  6  =  42\n"
     ]
    }
   ],
   "source": [
    "#7.2\n",
    "list1 = [3, 5, 7]\n",
    "list2 = [2, 3, 4, 5, 6]\n",
    "\n",
    "for a in list1:\n",
    "    for  b in list2:\n",
    "        print(a,' * ', b,' = ',a * b )"
   ]
  },
  {
   "cell_type": "code",
   "execution_count": 22,
   "id": "2f031d18",
   "metadata": {},
   "outputs": [
    {
     "name": "stdout",
     "output_type": "stream",
     "text": [
      "3 * 2 =   6\n",
      "3 * 3 =   9\n",
      "3 * 4 =  12\n",
      "3 * 5 =  15\n",
      "3 * 6 =  18\n",
      "5 * 2 =  10\n",
      "5 * 3 =  15\n",
      "5 * 4 =  20\n",
      "5 * 5 =  25\n",
      "5 * 6 =  30\n",
      "7 * 2 =  14\n",
      "7 * 3 =  21\n",
      "7 * 4 =  28\n",
      "7 * 5 =  35\n",
      "7 * 6 =  42\n"
     ]
    }
   ],
   "source": [
    "list1 = [3, 5, 7]\n",
    "list2 = [2, 3, 4, 5, 6]\n",
    "\n",
    "for a in list1:\n",
    "    for  b in list2:\n",
    "        print(f'{a} * {b} = {a * b:3d}')"
   ]
  },
  {
   "cell_type": "markdown",
   "id": "46403302",
   "metadata": {},
   "source": [
    "## 7.3"
   ]
  },
  {
   "cell_type": "code",
   "execution_count": 46,
   "id": "6842d66b",
   "metadata": {},
   "outputs": [
    {
     "name": "stdout",
     "output_type": "stream",
     "text": [
      "I like pancakes.\n",
      "I like kiwi juice.\n",
      "I like espresso.\n",
      "I love pancakes.\n",
      "I love kiwi juice.\n",
      "I love espresso.\n"
     ]
    }
   ],
   "source": [
    "list1 = ['I like', 'I love']\n",
    "list2 = ['pancakes.', 'kiwi juice.', 'espresso.']\n",
    "\n",
    "for a in list1:\n",
    "    for  b in list2:\n",
    "        print(a ,b)"
   ]
  },
  {
   "cell_type": "markdown",
   "id": "2f3a0625",
   "metadata": {},
   "source": [
    "## 7.4"
   ]
  },
  {
   "cell_type": "code",
   "execution_count": 7,
   "id": "8717c62a",
   "metadata": {},
   "outputs": [
    {
     "ename": "AttributeError",
     "evalue": "'tuple' object has no attribute 'append'",
     "output_type": "error",
     "traceback": [
      "\u001b[1;31m---------------------------------------------------------------------------\u001b[0m",
      "\u001b[1;31mAttributeError\u001b[0m                            Traceback (most recent call last)",
      "\u001b[1;32mC:\\Users\\ADMINI~1\\AppData\\Local\\Temp/ipykernel_9732/28165503.py\u001b[0m in \u001b[0;36m<module>\u001b[1;34m\u001b[0m\n\u001b[0;32m      1\u001b[0m \u001b[0mt\u001b[0m \u001b[1;33m=\u001b[0m \u001b[1;33m(\u001b[0m\u001b[1;36m10\u001b[0m\u001b[1;33m,\u001b[0m \u001b[1;36m20\u001b[0m\u001b[1;33m,\u001b[0m \u001b[1;36m30\u001b[0m\u001b[1;33m)\u001b[0m\u001b[1;33m\u001b[0m\u001b[1;33m\u001b[0m\u001b[0m\n\u001b[1;32m----> 2\u001b[1;33m \u001b[0mt\u001b[0m\u001b[1;33m.\u001b[0m\u001b[0mappend\u001b[0m\u001b[1;33m(\u001b[0m\u001b[1;36m50\u001b[0m\u001b[1;33m)\u001b[0m\u001b[1;33m\u001b[0m\u001b[1;33m\u001b[0m\u001b[0m\n\u001b[0m",
      "\u001b[1;31mAttributeError\u001b[0m: 'tuple' object has no attribute 'append'"
     ]
    }
   ],
   "source": [
    "t = (10, 20, 30)\n",
    "t.append(50)"
   ]
  },
  {
   "cell_type": "code",
   "execution_count": 10,
   "id": "80552674",
   "metadata": {},
   "outputs": [
    {
     "data": {
      "text/plain": [
       "[10, 20, 30, 40, 50]"
      ]
     },
     "execution_count": 10,
     "metadata": {},
     "output_type": "execute_result"
    }
   ],
   "source": [
    "t = [10, 20, 30, 40]\n",
    "t.append(50)\n",
    "t"
   ]
  },
  {
   "cell_type": "code",
   "execution_count": 11,
   "id": "84745078",
   "metadata": {},
   "outputs": [
    {
     "data": {
      "text/plain": [
       "[10, 20, 30]"
      ]
     },
     "execution_count": 11,
     "metadata": {},
     "output_type": "execute_result"
    }
   ],
   "source": [
    "t = [10, 20, 30, 40]\n",
    "t.remove(40)\n",
    "t"
   ]
  },
  {
   "cell_type": "code",
   "execution_count": 13,
   "id": "b7c31358",
   "metadata": {},
   "outputs": [
    {
     "data": {
      "text/plain": [
       "[0, 20, 30, 40]"
      ]
     },
     "execution_count": 13,
     "metadata": {},
     "output_type": "execute_result"
    }
   ],
   "source": [
    "t = [10, 20, 30, 40]\n",
    "t[0] = 0\n",
    "t"
   ]
  },
  {
   "cell_type": "code",
   "execution_count": 14,
   "id": "7210d2fc",
   "metadata": {},
   "outputs": [
    {
     "ename": "TypeError",
     "evalue": "'tuple' object does not support item assignment",
     "output_type": "error",
     "traceback": [
      "\u001b[1;31m---------------------------------------------------------------------------\u001b[0m",
      "\u001b[1;31mTypeError\u001b[0m                                 Traceback (most recent call last)",
      "\u001b[1;32mC:\\Users\\ADMINI~1\\AppData\\Local\\Temp/ipykernel_9732/848212476.py\u001b[0m in \u001b[0;36m<module>\u001b[1;34m\u001b[0m\n\u001b[0;32m      1\u001b[0m \u001b[0mt\u001b[0m \u001b[1;33m=\u001b[0m \u001b[1;33m(\u001b[0m\u001b[1;36m10\u001b[0m\u001b[1;33m,\u001b[0m \u001b[1;36m20\u001b[0m\u001b[1;33m,\u001b[0m \u001b[1;36m30\u001b[0m\u001b[1;33m,\u001b[0m \u001b[1;36m40\u001b[0m\u001b[1;33m)\u001b[0m\u001b[1;33m\u001b[0m\u001b[1;33m\u001b[0m\u001b[0m\n\u001b[1;32m----> 2\u001b[1;33m \u001b[0mt\u001b[0m\u001b[1;33m[\u001b[0m\u001b[1;36m0\u001b[0m\u001b[1;33m]\u001b[0m \u001b[1;33m=\u001b[0m \u001b[1;36m0\u001b[0m\u001b[1;33m\u001b[0m\u001b[1;33m\u001b[0m\u001b[0m\n\u001b[0m",
      "\u001b[1;31mTypeError\u001b[0m: 'tuple' object does not support item assignment"
     ]
    }
   ],
   "source": [
    "t = (10, 20, 30, 40)\n",
    "t[0] = 0"
   ]
  },
  {
   "cell_type": "markdown",
   "id": "28a603d0",
   "metadata": {},
   "source": [
    "## 7.5"
   ]
  },
  {
   "cell_type": "code",
   "execution_count": 21,
   "id": "3a4aff7d",
   "metadata": {},
   "outputs": [
    {
     "data": {
      "text/plain": [
       "['A1', 'A2', 'B1', 'B2', 'C1', 'C2']"
      ]
     },
     "execution_count": 21,
     "metadata": {},
     "output_type": "execute_result"
    }
   ],
   "source": [
    "seat_num = []\n",
    "for a in ('A', 'B', 'C'):\n",
    "    for n in ('1', '2'):\n",
    "        seat_num.append(a + n)\n",
    "        \n",
    "seat_num"
   ]
  },
  {
   "cell_type": "markdown",
   "id": "0fb277ac",
   "metadata": {},
   "source": [
    "## 7.6"
   ]
  },
  {
   "cell_type": "code",
   "execution_count": 39,
   "id": "4967f4e0",
   "metadata": {},
   "outputs": [
    {
     "name": "stdout",
     "output_type": "stream",
     "text": [
      "p\n",
      "py\n",
      "pyt\n",
      "pyth\n",
      "pytho\n",
      "python\n",
      "pytho\n",
      "pyth\n",
      "pyt\n",
      "py\n",
      "p\n"
     ]
    }
   ],
   "source": [
    "string = 'python'\n",
    "n = len(string)\n",
    "for i in range(1, 2*n):\n",
    "    if i <= n:\n",
    "        print(string[:i])\n",
    "    else:\n",
    "        print(string[:2*n-i])"
   ]
  },
  {
   "cell_type": "code",
   "execution_count": 56,
   "id": "ee205297",
   "metadata": {},
   "outputs": [
    {
     "name": "stdin",
     "output_type": "stream",
     "text": [
      "문자열을 입력하세요 :  아라비아\n"
     ]
    },
    {
     "name": "stdout",
     "output_type": "stream",
     "text": [
      "아\n",
      "아라\n",
      "아라비\n",
      "아라비아\n",
      "아라비\n",
      "아라\n",
      "아\n"
     ]
    }
   ],
   "source": [
    "pira = input(\"문자열을 입력하세요 : \")\n",
    "\n",
    "\n",
    "n = len(pira)\n",
    "for i in range(1, 2*n):\n",
    "    if i <= n:\n",
    "        print(pira[:i])\n",
    "    else:\n",
    "        print(pira[:2*n-i])"
   ]
  },
  {
   "cell_type": "markdown",
   "id": "b1f25b9e",
   "metadata": {},
   "source": [
    "## 7.7"
   ]
  },
  {
   "cell_type": "code",
   "execution_count": 44,
   "id": "5a4a5574",
   "metadata": {},
   "outputs": [
    {
     "name": "stdout",
     "output_type": "stream",
     "text": [
      "banana  : 문자열의 길이 3\n",
      "orange  : 문자열의 길이 3\n",
      "kiwi  : 문자열의 길이 3\n",
      "apple  : 문자열의 길이 3\n",
      "melon  : 문자열의 길이 3\n"
     ]
    }
   ],
   "source": [
    "fruit_list = ['banana', 'orange', 'kiwi', 'apple', 'melon']\n",
    "for fruit in fruit_list:\n",
    "    n = len(pira)\n",
    "    print(fruit, ' : 문자열의 길이', n)"
   ]
  },
  {
   "cell_type": "code",
   "execution_count": 47,
   "id": "3bffda45",
   "metadata": {},
   "outputs": [
    {
     "name": "stdout",
     "output_type": "stream",
     "text": [
      "banana : 문자열의 길이 6\n",
      "orange : 문자열의 길이 6\n",
      "kiwi   : 문자열의 길이 4\n",
      "apple  : 문자열의 길이 5\n",
      "melon  : 문자열의 길이 5\n"
     ]
    }
   ],
   "source": [
    "fruit_list = ['banana', 'orange', 'kiwi', 'apple', 'melon']\n",
    "for fruit in fruit_list:\n",
    "    n = len(pira)\n",
    "    print(f\"{fruit:7s}: 문자열의 길이 {len(fruit)}\")"
   ]
  },
  {
   "cell_type": "code",
   "execution_count": 58,
   "id": "7157daf7",
   "metadata": {},
   "outputs": [
    {
     "data": {
      "text/plain": [
       "6"
      ]
     },
     "execution_count": 58,
     "metadata": {},
     "output_type": "execute_result"
    }
   ],
   "source": [
    "fruit_list = ['banana', 'orange', 'kiwi', 'apple', 'melon']\n",
    "max_length = 0\n",
    "for fruit in fruit_list:\n",
    "    if len(fruit) > max_length:\n",
    "        max_length = len(fruit)\n",
    "\n",
    "\n",
    "max_length"
   ]
  },
  {
   "cell_type": "code",
   "execution_count": 59,
   "id": "468bd1e4",
   "metadata": {},
   "outputs": [
    {
     "data": {
      "text/plain": [
       "'orange'"
      ]
     },
     "execution_count": 59,
     "metadata": {},
     "output_type": "execute_result"
    }
   ],
   "source": [
    "max(fruit_list)"
   ]
  },
  {
   "cell_type": "code",
   "execution_count": 60,
   "id": "7ef4720c",
   "metadata": {},
   "outputs": [
    {
     "name": "stdout",
     "output_type": "stream",
     "text": [
      "fruit list ['kiwi', 'apple', 'melon']\n"
     ]
    }
   ],
   "source": [
    "max_length = max([len(fruit) for fruit in fruit_list])\n",
    "\n",
    "max_length_fruit = []\n",
    "for fruit in fruit_list:\n",
    "    if len(fruit) == max_length:\n",
    "        max_length_fruit.append(fruit)\n",
    "    \n",
    "for fruit in max_length_fruit:\n",
    "    fruit_list.remove(fruit)\n",
    "    \n",
    "print('fruit list', fruit_list)"
   ]
  },
  {
   "cell_type": "markdown",
   "id": "dbeafdd4",
   "metadata": {},
   "source": [
    "## 5.8"
   ]
  },
  {
   "cell_type": "code",
   "execution_count": 58,
   "id": "18ea7f52",
   "metadata": {},
   "outputs": [
    {
     "name": "stdin",
     "output_type": "stream",
     "text": [
      "n을 입력하시오 :  5\n"
     ]
    },
    {
     "name": "stdout",
     "output_type": "stream",
     "text": [
      "[1, 2, 3, 4, 5]\n",
      "[6, 7, 8, 9, 10]\n",
      "[11, 12, 13, 14, 15]\n",
      "[16, 17, 18, 19, 20]\n",
      "[21, 22, 23, 24, 25]\n"
     ]
    }
   ],
   "source": [
    "n = int(input('n을 입력하시오 : '))\n",
    "\n",
    "m = n ** 2 + 1\n",
    "f = 0\n",
    "for i in range(1, m):\n",
    "    sqr.append(i)\n",
    "    if i % n == 0:\n",
    "        print(sqr[f:i])\n",
    "        f += n"
   ]
  },
  {
   "cell_type": "code",
   "execution_count": 13,
   "id": "1cd798da-13f9-477c-85c2-22676fbe3a7f",
   "metadata": {},
   "outputs": [
    {
     "name": "stdin",
     "output_type": "stream",
     "text": [
      "n을 입력하시오 :  10\n"
     ]
    },
    {
     "name": "stdout",
     "output_type": "stream",
     "text": [
      "1보다 크고 10보다 작은 값을 입력해야 합니다.\n"
     ]
    },
    {
     "name": "stdin",
     "output_type": "stream",
     "text": [
      "n을 입력하시오 :  5\n"
     ]
    },
    {
     "name": "stdout",
     "output_type": "stream",
     "text": [
      "  1   2   3   4   5 \n",
      " 10   9   8   7   6 \n",
      " 11  12  13  14  15 \n",
      " 20  19  18  17  16 \n",
      " 21  22  23  24  25 \n"
     ]
    }
   ],
   "source": [
    "while True:\n",
    "    n = int(input('n을 입력하시오 : '))\n",
    "    if 1 < n < 10:\n",
    "        break\n",
    "    print('1보다 크고 10보다 작은 값을 입력해야 합니다.')\n",
    "\n",
    "m = n ** 2 + 1\n",
    "f = 0\n",
    "sqr = []\n",
    "reverse = False\n",
    "\n",
    "for i in range(1, m):\n",
    "    sqr.append(i)\n",
    "    if i % n == 0:\n",
    "        section = sqr[f:i][::-1] if reverse else sqr[f:i]\n",
    "        for x in section:\n",
    "            print(f'{x:3}', end=' ')\n",
    "        print()  # 줄바꿈\n",
    "        reverse = not reverse\n",
    "        f += n"
   ]
  }
 ],
 "metadata": {
  "kernelspec": {
   "display_name": "Python 3 (ipykernel)",
   "language": "python",
   "name": "python3"
  },
  "language_info": {
   "codemirror_mode": {
    "name": "ipython",
    "version": 3
   },
   "file_extension": ".py",
   "mimetype": "text/x-python",
   "name": "python",
   "nbconvert_exporter": "python",
   "pygments_lexer": "ipython3",
   "version": "3.12.4"
  }
 },
 "nbformat": 4,
 "nbformat_minor": 5
}

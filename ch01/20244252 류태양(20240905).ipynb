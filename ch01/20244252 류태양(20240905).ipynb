{
 "cells": [
  {
   "cell_type": "markdown",
   "id": "8c8f45b7",
   "metadata": {},
   "source": [
    "## 20240905\n",
    "-류태양  \n",
    "-20244252"
   ]
  },
  {
   "cell_type": "markdown",
   "id": "a2eece20",
   "metadata": {},
   "source": [
    "## 오늘 배운것들\n",
    "-주피터 쓰는 법을 배웠다.\n",
    "-파이썬이 재미있다."
   ]
  },
  {
   "cell_type": "markdown",
   "id": "8bceaec7",
   "metadata": {},
   "source": [
    "## 어려운 점들\n",
    "-진도를 나가려고 하여 한 번 놓치면 제대로 따라왔는지 알기 어려웠다."
   ]
  },
  {
   "cell_type": "markdown",
   "id": "5f165d34",
   "metadata": {},
   "source": [
    "## 주관식 문제\n",
    "(1)데이터 과학  \n",
    "(2)데이터 중심의 과학  \n",
    "(3)데이터 엔지니어(공학자)  \n",
    "(4)기계 학습 엔지니어(공학자)  \n",
    "(5)프로그램  \n",
    "(6)기계어  \n",
    "(7)프로그래밍 언어  \n",
    "(8)귀도 반 로섬(썸)  \n",
    "(9)인터프리터  \n",
    "(10)문자열  \n",
    "(11)print  \n",
    "(12)주석(comment)  \n",
    "(13)터틀 그래픽 (turtle)  "
   ]
  },
  {
   "cell_type": "markdown",
   "id": "4adebbbb",
   "metadata": {},
   "source": [
    "## 심화문제\n",
    "### 1.1\n",
    "(1)프로그래밍(Programming)이란 프로그램(Program)을 만드는 일을 말한다.  \n",
    "(2)인터프리터(interpreter, 문화어: 해석기)는 프로그래밍 언어의 소스 코드를 바로 실행하는 컴퓨터 프로그램 또는 환경을 말한다.  \n",
    "(3)컴파일러(compiler, 순화 용어: 해석기, 번역기)는 특정 프로그래밍 언어로 쓰여 있는 문서를 다른 프로그래밍 언어로 옮기는 언어 번역 프로그램을 말한다.  \n",
    "(4)통합 개발 환경(IDE)이란 프로그래머가 소프트웨어 코드를 효율적으로 개발하도록 돕는 소프트웨어 애플리케이션입니다.   \n",
    "(5)프롬프트 메시지(prompt message)는 사용자가 셸(터미널)에서 명령어를 입력하는 과정에서 에러 메시지나 경고 또는 작업 처리에 필요한 정보가 누락된 경우 등 다이얼로그 시스템에서 필요로 하는 정보를 추가로 입력받거나 알려주기 위하여 사용자에게 출력하는 메시지이다.  \n",
    "(6)라이브러리(영어: library)는 주로 소프트웨어를 개발할 때 컴퓨터 프로그램이 사용하는 비휘발성 자원의 모임이다.  \n",
    "(7)컴퓨터 프로그래밍과 형식 언어 이론에서 문자열(文字列)은 기호의 순차 수열을 말한다.  \n",
    "(8)표현식(expression)이란 값을 부여 또는 계산하는 형태의 수식을 의미 합니다.  "
   ]
  },
  {
   "cell_type": "markdown",
   "id": "2e0a1e49",
   "metadata": {},
   "source": [
    "## 1.2"
   ]
  }
 ],
 "metadata": {
  "kernelspec": {
   "display_name": "Python 3 (ipykernel)",
   "language": "python",
   "name": "python3"
  },
  "language_info": {
   "codemirror_mode": {
    "name": "ipython",
    "version": 3
   },
   "file_extension": ".py",
   "mimetype": "text/x-python",
   "name": "python",
   "nbconvert_exporter": "python",
   "pygments_lexer": "ipython3",
   "version": "3.9.7"
  }
 },
 "nbformat": 4,
 "nbformat_minor": 5
}

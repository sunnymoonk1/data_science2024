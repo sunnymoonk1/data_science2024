{
 "cells": [
  {
   "cell_type": "markdown",
   "id": "87defcdd",
   "metadata": {},
   "source": [
    "## 20244252    \n",
    "-이름 : 류태양  \n",
    "-학번 : (20244252)  "
   ]
  },
  {
   "cell_type": "markdown",
   "id": "59517e27",
   "metadata": {},
   "source": [
    "## 오늘 배운 것들  \n",
    "- 터틀 그래프을 활용하는 방법  \n",
    "- 반복식 for 사용하는 방법  \n",
    "- 저번에 했던 것 복습"
   ]
  },
  {
   "cell_type": "markdown",
   "id": "56a9c69a",
   "metadata": {},
   "source": [
    "## 어려운 점들  \n",
    "- 나가는 속도가 너무 빨라 따라잡기 힘들다.  \n",
    "- 터틀 그래프 각도를 생각과 달리 달랐다."
   ]
  },
  {
   "cell_type": "markdown",
   "id": "f3d20dd9",
   "metadata": {},
   "source": [
    "## 주관식 문제"
   ]
  },
  {
   "cell_type": "markdown",
   "id": "c8783ad6",
   "metadata": {},
   "source": [
    "### 1.3"
   ]
  },
  {
   "cell_type": "code",
   "execution_count": null,
   "id": "629e13db",
   "metadata": {},
   "outputs": [],
   "source": []
  },
  {
   "cell_type": "markdown",
   "id": "bff00935",
   "metadata": {},
   "source": [
    "### 1.3"
   ]
  },
  {
   "cell_type": "code",
   "execution_count": 7,
   "id": "a300a7a9",
   "metadata": {},
   "outputs": [
    {
     "name": "stdout",
     "output_type": "stream",
     "text": [
      "100\n"
     ]
    }
   ],
   "source": [
    "#(1)\n",
    "print(100)"
   ]
  },
  {
   "cell_type": "code",
   "execution_count": 6,
   "id": "ba35debd",
   "metadata": {},
   "outputs": [
    {
     "name": "stdout",
     "output_type": "stream",
     "text": [
      "300\n"
     ]
    }
   ],
   "source": [
    "#(2)\n",
    "print(100 + 200)"
   ]
  },
  {
   "cell_type": "code",
   "execution_count": 5,
   "id": "04da3920",
   "metadata": {},
   "outputs": [
    {
     "name": "stdout",
     "output_type": "stream",
     "text": [
      "100 + 200\n"
     ]
    }
   ],
   "source": [
    "#(3)\n",
    "print('100 + 200')"
   ]
  },
  {
   "cell_type": "code",
   "execution_count": 8,
   "id": "355e9d25",
   "metadata": {},
   "outputs": [
    {
     "name": "stdout",
     "output_type": "stream",
     "text": [
      "100 200\n"
     ]
    }
   ],
   "source": [
    "#(4)\n",
    "print(100, 200)"
   ]
  },
  {
   "cell_type": "code",
   "execution_count": 9,
   "id": "8c90fc42",
   "metadata": {},
   "outputs": [
    {
     "name": "stdout",
     "output_type": "stream",
     "text": [
      "100 200\n"
     ]
    }
   ],
   "source": [
    "#(5)\n",
    "print('100', '200')"
   ]
  },
  {
   "cell_type": "code",
   "execution_count": 10,
   "id": "24c3e2ee",
   "metadata": {},
   "outputs": [
    {
     "name": "stdout",
     "output_type": "stream",
     "text": [
      "100200\n"
     ]
    }
   ],
   "source": [
    "#(6)\n",
    "print('100''200')"
   ]
  },
  {
   "cell_type": "code",
   "execution_count": 12,
   "id": "398eb023",
   "metadata": {},
   "outputs": [
    {
     "name": "stdout",
     "output_type": "stream",
     "text": [
      "Hello Python!\n"
     ]
    }
   ],
   "source": [
    "#(7)\n",
    "print('Hello Python!')"
   ]
  },
  {
   "cell_type": "code",
   "execution_count": 11,
   "id": "88b406c3",
   "metadata": {},
   "outputs": [
    {
     "name": "stdout",
     "output_type": "stream",
     "text": [
      "Hello Python !\n"
     ]
    }
   ],
   "source": [
    "#(8)\n",
    "print('Hello', 'Python', '!')"
   ]
  },
  {
   "cell_type": "code",
   "execution_count": null,
   "id": "051a4a65",
   "metadata": {},
   "outputs": [],
   "source": [
    "#(9)\n",
    "print('Hello' + 'Python' + '!')"
   ]
  },
  {
   "cell_type": "code",
   "execution_count": null,
   "id": "510aa2da",
   "metadata": {},
   "outputs": [],
   "source": [
    "#(10)\n",
    "print('Hollo''Python''!')"
   ]
  },
  {
   "cell_type": "code",
   "execution_count": 14,
   "id": "8761a37d",
   "metadata": {},
   "outputs": [
    {
     "name": "stdout",
     "output_type": "stream",
     "text": [
      "********************\n"
     ]
    }
   ],
   "source": [
    "#(11)\n",
    "print('********************')"
   ]
  },
  {
   "cell_type": "code",
   "execution_count": 13,
   "id": "11733029",
   "metadata": {},
   "outputs": [
    {
     "name": "stdout",
     "output_type": "stream",
     "text": [
      "********************\n"
     ]
    }
   ],
   "source": [
    "#(12)\n",
    "print('*' * 20)"
   ]
  },
  {
   "cell_type": "markdown",
   "id": "082dbc06",
   "metadata": {},
   "source": [
    "### 1.4"
   ]
  },
  {
   "cell_type": "code",
   "execution_count": 15,
   "id": "3c880d7e",
   "metadata": {},
   "outputs": [
    {
     "name": "stdout",
     "output_type": "stream",
     "text": [
      "Hello Python!\n"
     ]
    }
   ],
   "source": [
    "#(1)\n",
    "print(\"Hello Python!\")"
   ]
  },
  {
   "cell_type": "code",
   "execution_count": 18,
   "id": "c9ea12c1",
   "metadata": {},
   "outputs": [
    {
     "name": "stdout",
     "output_type": "stream",
     "text": [
      "********************\n"
     ]
    }
   ],
   "source": [
    "#(2)\n",
    "print('*' * 20)"
   ]
  },
  {
   "cell_type": "code",
   "execution_count": 19,
   "id": "531cf6ae",
   "metadata": {},
   "outputs": [
    {
     "name": "stdout",
     "output_type": "stream",
     "text": [
      "Life is short learn Python!\n"
     ]
    }
   ],
   "source": [
    "#(3)\n",
    "print(\"Life is short learn Python!\")"
   ]
  },
  {
   "cell_type": "code",
   "execution_count": 22,
   "id": "0ffdf1e8",
   "metadata": {},
   "outputs": [
    {
     "name": "stdout",
     "output_type": "stream",
     "text": [
      "300\n"
     ]
    }
   ],
   "source": [
    "#(4)\n",
    "print(100 + 200)"
   ]
  },
  {
   "cell_type": "markdown",
   "id": "220b9b94",
   "metadata": {},
   "source": [
    "### 1.5 welcome5. py"
   ]
  },
  {
   "cell_type": "code",
   "execution_count": 24,
   "id": "5170cbaa",
   "metadata": {},
   "outputs": [
    {
     "name": "stdout",
     "output_type": "stream",
     "text": [
      "I love Python\n",
      "I love Python\n",
      "I love Python\n",
      "I love Python\n",
      "I love Python\n"
     ]
    }
   ],
   "source": [
    "print(\"I love Python\")\n",
    "print(\"I love Python\")\n",
    "print(\"I love Python\")\n",
    "print(\"I love Python\")\n",
    "print(\"I love Python\")"
   ]
  },
  {
   "cell_type": "markdown",
   "id": "d7858d93",
   "metadata": {},
   "source": [
    "### 1.6 triangle.py"
   ]
  },
  {
   "cell_type": "code",
   "execution_count": 27,
   "id": "85f668f5",
   "metadata": {},
   "outputs": [
    {
     "name": "stdout",
     "output_type": "stream",
     "text": [
      "*\n",
      "**\n",
      "***\n",
      "****\n",
      "*****\n"
     ]
    }
   ],
   "source": [
    "print('*' * 1)\n",
    "print('*' * 2)\n",
    "print('*' * 3)\n",
    "print('*' * 4)\n",
    "print('*' * 5)"
   ]
  },
  {
   "cell_type": "code",
   "execution_count": 30,
   "id": "6856f73a",
   "metadata": {},
   "outputs": [
    {
     "name": "stdout",
     "output_type": "stream",
     "text": [
      "*\n",
      "**\n",
      "***\n",
      "****\n",
      "*****\n"
     ]
    }
   ],
   "source": [
    "for i in range(1, 6):\n",
    "    print('*' * i)"
   ]
  },
  {
   "cell_type": "markdown",
   "id": "aa67df77",
   "metadata": {},
   "source": [
    "### 1.7"
   ]
  },
  {
   "cell_type": "code",
   "execution_count": 1,
   "id": "2939a1d8",
   "metadata": {},
   "outputs": [],
   "source": [
    "# (1) 직각 삼각형 그리기 (ch01-7-1.py)\n",
    "import turtle\n",
    "t = turtle.Turtle()\n",
    "t.shape('turtle')\n",
    "t.forward(100)\n",
    "t.left(135)\n",
    "t.forward(141.1414)\n",
    "t.left(135)\n",
    "t.forward(100)\n",
    "turtle.done()"
   ]
  },
  {
   "cell_type": "code",
   "execution_count": 1,
   "id": "7a7f763b",
   "metadata": {},
   "outputs": [
    {
     "data": {
      "text/plain": [
       "<function turtle.mainloop()>"
      ]
     },
     "execution_count": 1,
     "metadata": {},
     "output_type": "execute_result"
    }
   ],
   "source": [
    "# (2) 겹쳐진 정상각형 그리기 (ch01-7-1.py)\n",
    "import turtle\n",
    "t = turtle.Turtle()\n",
    "t.shape('turtle')\n",
    "t.forward(100)\n",
    "t.left(120)\n",
    "t.forward(100)\n",
    "t.left(120)\n",
    "t.forward(100)\n",
    "t.right(120)\n",
    "t.forward(100)\n",
    "t.right(120)\n",
    "t.forward(100)\n",
    "turtle.done"
   ]
  },
  {
   "cell_type": "markdown",
   "id": "27913539",
   "metadata": {},
   "source": [
    "### 1.8"
   ]
  },
  {
   "cell_type": "code",
   "execution_count": 6,
   "id": "361dbf59",
   "metadata": {},
   "outputs": [
    {
     "data": {
      "text/plain": [
       "200"
      ]
     },
     "execution_count": 6,
     "metadata": {},
     "output_type": "execute_result"
    }
   ],
   "source": [
    "# (1)\n",
    "100 + 100"
   ]
  },
  {
   "cell_type": "code",
   "execution_count": 5,
   "id": "161df2e1",
   "metadata": {},
   "outputs": [
    {
     "data": {
      "text/plain": [
       "300"
      ]
     },
     "execution_count": 5,
     "metadata": {},
     "output_type": "execute_result"
    }
   ],
   "source": [
    "# (2)\n",
    "100 + 200"
   ]
  },
  {
   "cell_type": "code",
   "execution_count": 4,
   "id": "c048ab6f",
   "metadata": {},
   "outputs": [
    {
     "data": {
      "text/plain": [
       "100"
      ]
     },
     "execution_count": 4,
     "metadata": {},
     "output_type": "execute_result"
    }
   ],
   "source": [
    "# (3)\n",
    "200 - 100"
   ]
  },
  {
   "cell_type": "code",
   "execution_count": 3,
   "id": "5f738b9f",
   "metadata": {},
   "outputs": [
    {
     "data": {
      "text/plain": [
       "-100"
      ]
     },
     "execution_count": 3,
     "metadata": {},
     "output_type": "execute_result"
    }
   ],
   "source": [
    "# (4)\n",
    "100 - 200"
   ]
  },
  {
   "cell_type": "code",
   "execution_count": 2,
   "id": "d4cf46f1",
   "metadata": {},
   "outputs": [
    {
     "data": {
      "text/plain": [
       "200"
      ]
     },
     "execution_count": 2,
     "metadata": {},
     "output_type": "execute_result"
    }
   ],
   "source": [
    "# (5)\n",
    "100 * 2"
   ]
  },
  {
   "cell_type": "code",
   "execution_count": 1,
   "id": "5d641e09",
   "metadata": {},
   "outputs": [
    {
     "data": {
      "text/plain": [
       "50.0"
      ]
     },
     "execution_count": 1,
     "metadata": {},
     "output_type": "execute_result"
    }
   ],
   "source": [
    "# (6)\n",
    "100 / 2"
   ]
  },
  {
   "cell_type": "markdown",
   "id": "83db7bee",
   "metadata": {},
   "source": [
    "### 1.9"
   ]
  },
  {
   "cell_type": "code",
   "execution_count": 3,
   "id": "814bdb50",
   "metadata": {},
   "outputs": [
    {
     "data": {
      "text/plain": [
       "300"
      ]
     },
     "execution_count": 3,
     "metadata": {},
     "output_type": "execute_result"
    }
   ],
   "source": [
    "#(1)\n",
    "400 - 200 + 100"
   ]
  },
  {
   "cell_type": "code",
   "execution_count": 2,
   "id": "2c20f392",
   "metadata": {},
   "outputs": [
    {
     "data": {
      "text/plain": [
       "81700"
      ]
     },
     "execution_count": 2,
     "metadata": {},
     "output_type": "execute_result"
    }
   ],
   "source": [
    "#(2)\n",
    "409 * 200  - 100"
   ]
  },
  {
   "cell_type": "markdown",
   "id": "46cfb7aa",
   "metadata": {},
   "source": [
    "### 1.10"
   ]
  },
  {
   "cell_type": "code",
   "execution_count": 1,
   "id": "7399f7de",
   "metadata": {},
   "outputs": [
    {
     "data": {
      "text/plain": [
       "55"
      ]
     },
     "execution_count": 1,
     "metadata": {},
     "output_type": "execute_result"
    }
   ],
   "source": [
    "#(1) 1에서 10까지 정수의 합\n",
    "1 + 2 + 3 + 4 + 5 + 6 + 7 + 8 + 9 + 10"
   ]
  },
  {
   "cell_type": "code",
   "execution_count": 4,
   "id": "1c33a01a",
   "metadata": {},
   "outputs": [
    {
     "data": {
      "text/plain": [
       "31.400000000000002"
      ]
     },
     "execution_count": 4,
     "metadata": {},
     "output_type": "execute_result"
    }
   ],
   "source": [
    "#(2)\n",
    "5*2*3.14"
   ]
  },
  {
   "cell_type": "code",
   "execution_count": 5,
   "id": "b30b311b",
   "metadata": {},
   "outputs": [
    {
     "data": {
      "text/plain": [
       "80"
      ]
     },
     "execution_count": 5,
     "metadata": {},
     "output_type": "execute_result"
    }
   ],
   "source": [
    "#(3)\n",
    "20*4"
   ]
  },
  {
   "cell_type": "code",
   "execution_count": 7,
   "id": "4e4639b6",
   "metadata": {},
   "outputs": [
    {
     "data": {
      "text/plain": [
       "400"
      ]
     },
     "execution_count": 7,
     "metadata": {},
     "output_type": "execute_result"
    }
   ],
   "source": [
    "#(4)\n",
    "20*20"
   ]
  },
  {
   "cell_type": "code",
   "execution_count": 9,
   "id": "5f3e0afe",
   "metadata": {},
   "outputs": [
    {
     "data": {
      "text/plain": [
       "80"
      ]
     },
     "execution_count": 9,
     "metadata": {},
     "output_type": "execute_result"
    }
   ],
   "source": [
    "#(5)\n",
    "(10 + 30) * 2"
   ]
  },
  {
   "cell_type": "code",
   "execution_count": 14,
   "id": "a9797251",
   "metadata": {},
   "outputs": [
    {
     "data": {
      "text/plain": [
       "300"
      ]
     },
     "execution_count": 14,
     "metadata": {},
     "output_type": "execute_result"
    }
   ],
   "source": [
    "#(6)\n",
    "10 * 30"
   ]
  },
  {
   "cell_type": "code",
   "execution_count": 22,
   "id": "d472611c",
   "metadata": {},
   "outputs": [
    {
     "data": {
      "text/plain": [
       "300.0"
      ]
     },
     "execution_count": 22,
     "metadata": {},
     "output_type": "execute_result"
    }
   ],
   "source": [
    "#(7)\n",
    "(20 * 30) / 2"
   ]
  },
  {
   "cell_type": "markdown",
   "id": "28662573",
   "metadata": {},
   "source": [
    "### 1.11"
   ]
  },
  {
   "cell_type": "code",
   "execution_count": null,
   "id": "9e944b3f",
   "metadata": {},
   "outputs": [],
   "source": [
    "#(1)\n",
    "3 * 2 * 1"
   ]
  },
  {
   "cell_type": "code",
   "execution_count": null,
   "id": "fdf9cd94",
   "metadata": {},
   "outputs": [],
   "source": [
    "#(2)\n",
    "4 * 3 * 2 * 1"
   ]
  },
  {
   "cell_type": "code",
   "execution_count": 19,
   "id": "5f075ca4",
   "metadata": {},
   "outputs": [
    {
     "name": "stdout",
     "output_type": "stream",
     "text": [
      "5!=  120\n"
     ]
    }
   ],
   "source": [
    "fact = 1\n",
    "for i in range(1, 6):\n",
    "    fact *= i\n",
    "\n",
    "    \n",
    "print('5!= ',fact)"
   ]
  },
  {
   "cell_type": "code",
   "execution_count": 23,
   "id": "b2dffbb5",
   "metadata": {},
   "outputs": [
    {
     "name": "stdout",
     "output_type": "stream",
     "text": [
      "6!=  720\n"
     ]
    }
   ],
   "source": [
    "fact = 1\n",
    "for i in range(1, 7):\n",
    "    fact *= i\n",
    "\n",
    "    \n",
    "print('6!= ',fact)"
   ]
  },
  {
   "cell_type": "code",
   "execution_count": 24,
   "id": "9bf78ec1",
   "metadata": {},
   "outputs": [
    {
     "name": "stdout",
     "output_type": "stream",
     "text": [
      "7!=  5040\n"
     ]
    }
   ],
   "source": [
    "fact = 1\n",
    "for i in range(1, 8):\n",
    "    fact *= i\n",
    "\n",
    "    \n",
    "print('7!= ',fact)"
   ]
  }
 ],
 "metadata": {
  "kernelspec": {
   "display_name": "Python 3 (ipykernel)",
   "language": "python",
   "name": "python3"
  },
  "language_info": {
   "codemirror_mode": {
    "name": "ipython",
    "version": 3
   },
   "file_extension": ".py",
   "mimetype": "text/x-python",
   "name": "python",
   "nbconvert_exporter": "python",
   "pygments_lexer": "ipython3",
   "version": "3.9.7"
  }
 },
 "nbformat": 4,
 "nbformat_minor": 5
}

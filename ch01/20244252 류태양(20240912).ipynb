{
 "cells": [
  {
   "cell_type": "markdown",
   "id": "f918d15e",
   "metadata": {},
   "source": [
    "## 20244252  \n",
    "- 이름 : 류태양  \n",
    "- 학번 : 20244252"
   ]
  },
  {
   "cell_type": "markdown",
   "id": "6c069d38",
   "metadata": {},
   "source": [
    "## 오늘 배운 것들\n",
    "- https://meet.google.com/mob-higr-nix\n",
    "-"
   ]
  },
  {
   "cell_type": "markdown",
   "id": "dc192af3",
   "metadata": {},
   "source": [
    "## 어려운 점들\n",
    "- "
   ]
  },
  {
   "cell_type": "markdown",
   "id": "9e16bdff",
   "metadata": {},
   "source": [
    "## 주관식 문제"
   ]
  },
  {
   "cell_type": "code",
   "execution_count": null,
   "id": "8799deec",
   "metadata": {},
   "outputs": [],
   "source": []
  },
  {
   "cell_type": "code",
   "execution_count": null,
   "id": "193161d6",
   "metadata": {},
   "outputs": [],
   "source": []
  },
  {
   "cell_type": "code",
   "execution_count": null,
   "id": "72e5d5d2",
   "metadata": {},
   "outputs": [],
   "source": []
  },
  {
   "cell_type": "code",
   "execution_count": null,
   "id": "de4e4e16",
   "metadata": {},
   "outputs": [],
   "source": []
  },
  {
   "cell_type": "code",
   "execution_count": null,
   "id": "4627d2a0",
   "metadata": {},
   "outputs": [],
   "source": []
  },
  {
   "cell_type": "code",
   "execution_count": null,
   "id": "392e38fa",
   "metadata": {},
   "outputs": [],
   "source": []
  },
  {
   "cell_type": "code",
   "execution_count": null,
   "id": "198749ea",
   "metadata": {},
   "outputs": [],
   "source": []
  },
  {
   "cell_type": "code",
   "execution_count": null,
   "id": "85d0716b",
   "metadata": {},
   "outputs": [],
   "source": []
  }
 ],
 "metadata": {
  "kernelspec": {
   "display_name": "Python 3 (ipykernel)",
   "language": "python",
   "name": "python3"
  },
  "language_info": {
   "codemirror_mode": {
    "name": "ipython",
    "version": 3
   },
   "file_extension": ".py",
   "mimetype": "text/x-python",
   "name": "python",
   "nbconvert_exporter": "python",
   "pygments_lexer": "ipython3",
   "version": "3.9.7"
  }
 },
 "nbformat": 4,
 "nbformat_minor": 5
}

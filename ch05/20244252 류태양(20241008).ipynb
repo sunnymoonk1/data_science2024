{
 "cells": [
  {
   "cell_type": "markdown",
   "id": "56c26456",
   "metadata": {},
   "source": [
    "# 20244252 류태양 (20241008)  \n",
    "- 5장. 여러 번 반복하는 일을 하자  \n",
    "- 류태양  \n",
    "- 20244252  "
   ]
  },
  {
   "cell_type": "markdown",
   "id": "2198bedf",
   "metadata": {},
   "source": [
    "## 오늘 배운 내용\n",
    "1. 반복문에 i = 1이라는 조건을 넣어야 되는 것을 알게 되었습니다.\n",
    "2. str()[::-1]로 숫자를 뒤집어 쓰는 것을 알게 되었습니다."
   ]
  },
  {
   "cell_type": "markdown",
   "id": "4dfd4be5",
   "metadata": {},
   "source": [
    "## 어려운 점들  \n",
    "1. 들여쓰기가 너무 복잡해요.\n",
    "2. i랑 1을 멀리서 보면 똑같이 보여요."
   ]
  },
  {
   "cell_type": "markdown",
   "id": "241b6c4a",
   "metadata": {},
   "source": [
    "## 요점정리\n",
    "### 1) 반복문의 두가지 형식을 적어라  \n",
    "    1. for문 식별자 in 반복가능한 것(iterable):\n",
    "    2. while문 조건식:\n",
    "### 2) 두가지 반복문의 중요한 특징을 적어라\n",
    "    1. 반복할 횟수가 정해져 있다.\n",
    "    2. 특정 조건이 만족되면 계속 반복한다.\n",
    "### 3) 반복 루프를 제어하는 두가지 키워드를 찾아서 적고 그 특징을 설명하라\n",
    "    1. for문의 첫 번째 키워드는 range함수는 숫자열을 반환하고, 반복할 때마다 변수 i에 이 값을 대입하면서 문장을 반복한다.\n",
    "    2. for문의 두 번째 키워드는 하나 이상의 반복되는 문장이 올 수 있는데, 이 문장을 동일한 간격의 들여쓰기를 하면 같이 반복한다.\n",
    "    3. while문의 첫 번째 키워드는 continue로 루프를 빠져나오지 않고 아래 문장으로 건너뛸 때 사용된다.\n",
    "    4. while문의 두 번째 키워드는 break로 루프를 강제적으로 빠져나올 때 사용된다.\n",
    "### 4) range 함수에 대하여 찾아서 형식을 써라\n",
    "    1. range(start, stop, step) start는 반복시작할 첫 숫자, stop은 반복이 끝난 다음 숫자, step은 반복할 숫자간의 간격이다.\n",
    "        - range (시작값, 끝 값, 증가분)\n",
    "    2. range(stop) 이때 start는 0, step은 1로 간주한다."
   ]
  },
  {
   "cell_type": "markdown",
   "id": "8a66e971",
   "metadata": {},
   "source": [
    "## 주관식 문제\n",
    "1. for 문\n",
    "2. while 문\n",
    "3. 루프(loop)\n",
    "4. 블록(block)\n",
    "5. 콜론 :\n",
    "6. range()\n",
    "7. 무한 루프(infinite loop)\n",
    "8. True\n",
    "9. break\n",
    "10. continue\n",
    "11. format()\n",
    "12. 부동소수 (floating point)"
   ]
  },
  {
   "cell_type": "markdown",
   "id": "bd1be9c6",
   "metadata": {},
   "source": [
    "## 심화문제"
   ]
  },
  {
   "cell_type": "markdown",
   "id": "759e2a76",
   "metadata": {},
   "source": [
    "### 5.1"
   ]
  },
  {
   "cell_type": "code",
   "execution_count": 11,
   "id": "54596da5",
   "metadata": {},
   "outputs": [
    {
     "name": "stdout",
     "output_type": "stream",
     "text": [
      "1 3 5 7 9 11 13 15 17 19 21 23 25 27 29 31 33 35 37 39 41 43 45 47 49 51 53 55 57 59 61 63 65 67 69 71 73 75 77 79 81 83 85 87 89 91 93 95 97 99 "
     ]
    }
   ],
   "source": [
    "#5.1-1\n",
    "for i in range(1, 101, 2):\n",
    "    print(i, end = \" \")"
   ]
  },
  {
   "cell_type": "code",
   "execution_count": 2,
   "id": "593f5ef2",
   "metadata": {},
   "outputs": [
    {
     "name": "stdout",
     "output_type": "stream",
     "text": [
      "1 3 5 7 9 11 13 15 17 19 21 23 25 27 29 31 33 35 37 39 41 43 45 47 49 51 53 55 57 59 61 63 65 67 69 71 73 75 77 79 81 83 85 87 89 91 93 95 97 99 "
     ]
    }
   ],
   "source": [
    "#5.1-1-1\n",
    "for i in range(1, 101):\n",
    "    if i % 2 == 1:\n",
    "        print(i, end = \" \")"
   ]
  },
  {
   "cell_type": "code",
   "execution_count": 10,
   "id": "3bf915c6",
   "metadata": {},
   "outputs": [
    {
     "name": "stdout",
     "output_type": "stream",
     "text": [
      "1 3 5 7 9 11 13 15 17 19 21 23 25 27 29 31 33 35 37 39 41 43 45 47 49 51 53 55 57 59 61 63 65 67 69 71 73 75 77 79 81 83 85 87 89 91 93 95 97 99 "
     ]
    }
   ],
   "source": [
    "#5.1-2-1\n",
    "i = 1\n",
    "while i < 100:\n",
    "    print(i, end= ' ')\n",
    "    i += 2"
   ]
  },
  {
   "cell_type": "code",
   "execution_count": 12,
   "id": "f2951cb7",
   "metadata": {},
   "outputs": [
    {
     "name": "stdout",
     "output_type": "stream",
     "text": [
      "1 3 5 7 9 11 13 15 17 19 21 23 25 27 29 31 33 35 37 39 41 43 45 47 49 51 53 55 57 59 61 63 65 67 69 71 73 75 77 79 81 83 85 87 89 91 93 95 97 99 "
     ]
    }
   ],
   "source": [
    "#5.1-2-2\n",
    "i = 1\n",
    "while i < 100:\n",
    "    if i % 2 == 1:\n",
    "        print(i, end= ' ')\n",
    "    i += 1"
   ]
  },
  {
   "cell_type": "code",
   "execution_count": 14,
   "id": "9e4e2b1a",
   "metadata": {},
   "outputs": [
    {
     "name": "stdout",
     "output_type": "stream",
     "text": [
      "2 4 6 8 10 12 14 16 18 20 22 24 26 28 30 32 34 36 38 40 42 44 46 48 50 52 54 56 58 60 62 64 66 68 70 72 74 76 78 80 82 84 86 88 90 92 94 96 98 100 "
     ]
    }
   ],
   "source": [
    "#5.1-3-1\n",
    "i = 2\n",
    "while i < 101:\n",
    "    print(i, end=' ')\n",
    "    i += 2"
   ]
  },
  {
   "cell_type": "code",
   "execution_count": 15,
   "id": "cc284bb9",
   "metadata": {},
   "outputs": [
    {
     "name": "stdout",
     "output_type": "stream",
     "text": [
      "2 4 6 8 10 12 14 16 18 20 22 24 26 28 30 32 34 36 38 40 42 44 46 48 50 52 54 56 58 60 62 64 66 68 70 72 74 76 78 80 82 84 86 88 90 92 94 96 98 100 "
     ]
    }
   ],
   "source": [
    "#5.1-3-2\n",
    "i = 1\n",
    "while i < 101:\n",
    "    if i % 2 == 0:\n",
    "        print(i, end= ' ')\n",
    "    i += 1"
   ]
  },
  {
   "cell_type": "markdown",
   "id": "3de1f673",
   "metadata": {},
   "source": [
    "### 5.2"
   ]
  },
  {
   "cell_type": "code",
   "execution_count": 43,
   "id": "f544dc2c",
   "metadata": {},
   "outputs": [
    {
     "name": "stdout",
     "output_type": "stream",
     "text": [
      "1에서 100까지의 수 중에서 홀수의 합 : 2500\n"
     ]
    }
   ],
   "source": [
    "#5.2-1\n",
    "s = 0\n",
    "for i in range(1,101,2):\n",
    "    s = s + i\n",
    "print('1에서 100까지의 수 중에서 홀수의 합 :', s)"
   ]
  },
  {
   "cell_type": "code",
   "execution_count": 57,
   "id": "63f04f03",
   "metadata": {},
   "outputs": [
    {
     "name": "stdout",
     "output_type": "stream",
     "text": [
      "1에서 100까지의 수 중에서 짝수 합: 2500\n"
     ]
    }
   ],
   "source": [
    "#5.2-2\n",
    "s = 0\n",
    "for i in range(1,101):\n",
    "    if i % 2 == 1:\n",
    "        s  += i\n",
    "print(\"1에서 100까지의 수 중에서 홀수 합:\", s)"
   ]
  },
  {
   "cell_type": "code",
   "execution_count": 63,
   "id": "7c7e7848",
   "metadata": {},
   "outputs": [
    {
     "name": "stdout",
     "output_type": "stream",
     "text": [
      "1에서 100까지의 수 중에서 홀수 합: 2500\n"
     ]
    }
   ],
   "source": [
    "#5.2-3\n",
    "i = 1\n",
    "s = 0\n",
    "while i < 100:\n",
    "    if i % 2 == 1:\n",
    "        s += i\n",
    "    i += 1\n",
    "\n",
    "print(\"1에서 100까지의 수 중에서 홀수 합:\", s)"
   ]
  },
  {
   "cell_type": "markdown",
   "id": "c38472d2",
   "metadata": {},
   "source": [
    "### 5.4"
   ]
  },
  {
   "cell_type": "code",
   "execution_count": 73,
   "id": "eedcf7ad",
   "metadata": {},
   "outputs": [
    {
     "name": "stdout",
     "output_type": "stream",
     "text": [
      "    *\n",
      "   **\n",
      "  ***\n",
      " ****\n",
      "*****\n"
     ]
    }
   ],
   "source": [
    "5.4-1\n",
    "for i in range(1, 6):\n",
    "    print(' ' * (5-i) + '*'*i)"
   ]
  },
  {
   "cell_type": "code",
   "execution_count": 74,
   "id": "735871a2",
   "metadata": {},
   "outputs": [
    {
     "name": "stdout",
     "output_type": "stream",
     "text": [
      "*\n",
      "**\n",
      "***\n",
      "****\n",
      "*****\n"
     ]
    }
   ],
   "source": [
    "#5.4-2\n",
    "for i in range(1, 6):\n",
    "    print('*'*i)"
   ]
  },
  {
   "cell_type": "markdown",
   "id": "cd085c37",
   "metadata": {},
   "source": [
    "### 5.5"
   ]
  },
  {
   "cell_type": "code",
   "execution_count": 23,
   "id": "a4c843eb",
   "metadata": {},
   "outputs": [
    {
     "name": "stdout",
     "output_type": "stream",
     "text": [
      "day : 1 달팽이의 위치 : 7미터\n",
      "day : 2 달팽이의 위치 : 9미터\n",
      "day : 3 달팽이의 위치 : 11미터\n",
      "day : 4 달팽이의 위치 : 13미터\n",
      "day : 5 달팽이의 위치 : 15미터\n",
      "day : 6 달팽이의 위치 : 17미터\n",
      "day : 7 달팽이의 위치 : 19미터\n",
      "day : 8 달팽이의 위치 : 21미터\n",
      "day : 9 달팽이의 위치 : 23미터\n",
      "day : 10 달팽이의 위치 : 25미터\n",
      "day : 11 달팽이의 위치 : 27미터\n",
      "day : 12 달팽이의 위치 : 29미터\n",
      "day : 13 달팽이의 위치 : 31미터\n",
      "축하합니다. 우물을 탈출하였습니다.\n",
      "우물을 탈출하는 데 걸린 날은 13 일 입니다.\n"
     ]
    }
   ],
   "source": [
    "i = 0\n",
    "day = 1\n",
    "while i < 30:\n",
    "    i += 7\n",
    "    print(\"day : {} 달팽이의 위치 : {}미터\".format(day, i))\n",
    "    if i > 30: break\n",
    "    day += 1\n",
    "    i -= 5\n",
    "print(\"축하합니다. 우물을 탈출하였습니다.\")\n",
    "print(\"우물을 탈출하는 데 걸린 날은\", day, \"일 입니다.\")"
   ]
  },
  {
   "cell_type": "markdown",
   "id": "3e4f3186",
   "metadata": {},
   "source": [
    "### 5.7"
   ]
  },
  {
   "cell_type": "code",
   "execution_count": 26,
   "id": "e70c9f7e",
   "metadata": {},
   "outputs": [
    {
     "name": "stdout",
     "output_type": "stream",
     "text": [
      "153 370 371 407 "
     ]
    }
   ],
   "source": [
    "for n in range(100, 1000):\n",
    "    x = n // 100\n",
    "    y = (n - x*100) // 10\n",
    "    z = n % 10\n",
    "    if n == (x**3 + y**3 + z**3):\n",
    "        print(n, end = \" \")"
   ]
  },
  {
   "cell_type": "markdown",
   "id": "8d4e9928",
   "metadata": {},
   "source": [
    "### 5.8"
   ]
  },
  {
   "cell_type": "code",
   "execution_count": 27,
   "id": "e70457d1",
   "metadata": {},
   "outputs": [
    {
     "data": {
      "text/plain": [
       "'43121'"
      ]
     },
     "execution_count": 27,
     "metadata": {},
     "output_type": "execute_result"
    }
   ],
   "source": [
    "str(12134)[::-1]"
   ]
  }
 ],
 "metadata": {
  "kernelspec": {
   "display_name": "Python 3 (ipykernel)",
   "language": "python",
   "name": "python3"
  },
  "language_info": {
   "codemirror_mode": {
    "name": "ipython",
    "version": 3
   },
   "file_extension": ".py",
   "mimetype": "text/x-python",
   "name": "python",
   "nbconvert_exporter": "python",
   "pygments_lexer": "ipython3",
   "version": "3.9.7"
  }
 },
 "nbformat": 4,
 "nbformat_minor": 5
}

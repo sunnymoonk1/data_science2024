{
 "cells": [
  {
   "cell_type": "markdown",
   "id": "b1c7f75d",
   "metadata": {},
   "source": [
    "# 20244252_류태양(20240924)  \n",
    "- 3장 연산자로 계산을 해 보자  \n",
    "- 류태양  \n",
    "- 20244252"
   ]
  },
  {
   "cell_type": "markdown",
   "id": "0ae0cd62",
   "metadata": {},
   "source": [
    "## 오늘 배운 내용  \n",
    "1. 연산자의 종류와 우선순위에 대해 배웠습니다.\n",
    "2. 절댓값 함수abs에 대해 배웠습니다."
   ]
  },
  {
   "cell_type": "markdown",
   "id": "cbed103f",
   "metadata": {},
   "source": [
    "## 어려운 점들  \n",
    "1. 심화문제 3.3 에서 왜 end=를 넣어야하는지 모르겠습니다."
   ]
  },
  {
   "cell_type": "markdown",
   "id": "24d24d60",
   "metadata": {},
   "source": [
    "## 연산자의 종류는 어떤 것들이 있는가?\n",
    "1. 산술 연산자 : +, -, *, **, //, /, %\n",
    "2. 복합 할당 연산자 : +=, -=, *=, /=, //=, %=, **=\n",
    "3. 비교 연산자 : ==, !=, >, <, >=, <=\n",
    "4. 논리 연산자 : X or Y, X and Y, not X\n",
    "5. 비트 연산자 : &=, !=, ^=, <<=, >>="
   ]
  },
  {
   "cell_type": "markdown",
   "id": "77f2e587",
   "metadata": {},
   "source": [
    "## 연산자의 우선순위를 써라\n",
    "1.() 괄호 연산자로 가장 높은 우선 순위 연산자  \n",
    "2.** 지수 연산자  \n",
    "3.~, +, - 단항 연산자(예: -10, +20)  \n",
    "4.*, /, %, // 곱셈 나눗셈, 나머지 연산자  \n",
    "5.+, - 덧셈, 뺄셈  \n",
    "6.>>, << 비트 이동 연산자  \n",
    "7.& 비트 AND 연산자  \n",
    "8.^, | 비트 XOR 연산자, 비트 OR 연산자  \n",
    "9.<=, <, >, >= 비교 연산자  \n",
    "10.==, != 동등 연산자  \n",
    "11.=, %=, /=, //=, -=, +=, *=, **= 할당 연산자, 복합 할당 연산자  \n",
    "12.is, is not 아이덴티티 연산자  \n",
    "13.in, not in 소속 연산자  \n",
    "14.not, or, and 논리 연산자  "
   ]
  },
  {
   "cell_type": "markdown",
   "id": "ec8ad149",
   "metadata": {},
   "source": [
    "## 주관식 문제\n",
    "다음 괄호 안에 들어갈 알맞은 단어를 적어라.\n",
    "1. 평가\n",
    "2. =\n",
    "3. 피연산자 \n",
    "4. 동시 할당문\n",
    "5. /, //\n",
    "6. **, 2 ** 7\n",
    "7. 비교 연산자\n",
    "8. True\n",
    "9. 논리 연산자. 부울(Bool)\n",
    "10. 비트\n",
    "11. 비트 연산자\n",
    "12. 쉬프트\n",
    "13. random\n",
    "14. math"
   ]
  },
  {
   "cell_type": "markdown",
   "id": "49e0b5ca",
   "metadata": {},
   "source": [
    "## 심화 문제"
   ]
  },
  {
   "cell_type": "markdown",
   "id": "0c55e827",
   "metadata": {},
   "source": [
    "## 3.2\n"
   ]
  },
  {
   "cell_type": "code",
   "execution_count": 10,
   "id": "fbc65606",
   "metadata": {},
   "outputs": [
    {
     "name": "stdout",
     "output_type": "stream",
     "text": [
      " 2 의 제곱근 = 1.4142135623730951\n",
      " 3 의 제곱근 = 1.7320508075688772\n",
      " 4 의 제곱근 = 2.0\n",
      " 5 의 제곱근 = 2.23606797749979\n",
      " 6 의 제곱근 = 2.449489742783178\n",
      " 7 의 제곱근 = 2.6457513110645907\n",
      " 8 의 제곱근 = 2.8284271247461903\n",
      " 9 의 제곱근 = 3.0\n",
      " 10 의 제곱근 = 3.1622776601683795\n"
     ]
    }
   ],
   "source": [
    "#1\n",
    "for i in range(2, 11):\n",
    "    print(\"\",i,'의 제곱근 =',i ** 0.5)"
   ]
  },
  {
   "cell_type": "markdown",
   "id": "20b7af8b",
   "metadata": {},
   "source": [
    "## 3.3"
   ]
  },
  {
   "cell_type": "code",
   "execution_count": 30,
   "id": "82a18bd5",
   "metadata": {},
   "outputs": [
    {
     "name": "stdout",
     "output_type": "stream",
     "text": [
      "2 4 8 16 32 64 128 256 512 1024 "
     ]
    }
   ],
   "source": [
    "for i in range(10):\n",
    "    print(2 << (i), end=' ')"
   ]
  },
  {
   "cell_type": "markdown",
   "id": "7b27bda7",
   "metadata": {},
   "source": [
    "## 3.4"
   ]
  },
  {
   "cell_type": "code",
   "execution_count": null,
   "id": "c027d234",
   "metadata": {},
   "outputs": [],
   "source": [
    "#3\n",
    "n = int(input('정수를 입력하세요 :'))\n",
    "print('입력된 정수는 0에서 100의 범위 안에 있는 짝수인가요?',(n >= 0) and (n <= 100) and (n % 2 == 0))"
   ]
  },
  {
   "cell_type": "markdown",
   "id": "f9e41653",
   "metadata": {},
   "source": [
    "## 3.7"
   ]
  },
  {
   "cell_type": "code",
   "execution_count": 1,
   "id": "51bc062a",
   "metadata": {},
   "outputs": [
    {
     "name": "stdout",
     "output_type": "stream",
     "text": [
      "세 자리 정수를 입력하시오.349\n",
      "백의 자리 : 3\n",
      "십의 자리 : 4\n",
      "일의 자리 : 9\n"
     ]
    }
   ],
   "source": [
    "#4\n",
    "n = int(input('세 자리 정수를 입력하시오.'))\n",
    "h = (n // 100)\n",
    "t = (n // 10) - (h*10)\n",
    "o = (n % 10)\n",
    "print('백의 자리 :',h)\n",
    "print('십의 자리 :',t)\n",
    "print('일의 자리 :',o)"
   ]
  },
  {
   "cell_type": "markdown",
   "id": "5f85ee72",
   "metadata": {},
   "source": [
    "## 3.8"
   ]
  },
  {
   "cell_type": "code",
   "execution_count": 3,
   "id": "e0bd183e",
   "metadata": {},
   "outputs": [
    {
     "name": "stdout",
     "output_type": "stream",
     "text": [
      "세 자리 정수를 입력하시오.349\n",
      "943\n"
     ]
    }
   ],
   "source": [
    "#5\n",
    "n = int(input('세 자리 정수를 입력하시오.'))\n",
    "h = n // 100\n",
    "t = n // 10 - h * 10\n",
    "o = n % 10\n",
    "print(o * 100 + t * 10 + h)"
   ]
  },
  {
   "cell_type": "markdown",
   "id": "899dfb8b",
   "metadata": {},
   "source": [
    "## 3.9"
   ]
  },
  {
   "cell_type": "code",
   "execution_count": 5,
   "id": "b837630c",
   "metadata": {},
   "outputs": [
    {
     "name": "stdout",
     "output_type": "stream",
     "text": [
      "평균 시속을 입력하세요. (km/h) :46.5\n",
      "이동 시간(h) 을 입력하세요. :12.342\n",
      "573.903\n",
      "이동시간: 12.0 시간 20.0 분 31.200000000004366 초\n"
     ]
    }
   ],
   "source": [
    "#6\n",
    "a = float(input('평균 시속을 입력하세요. (km/h) :'))\n",
    "t = float(input('이동 시간(h) 을 입력하세요. :'))\n",
    "d = a * t\n",
    "print(d)\n",
    "seconds = t * 3600\n",
    "h = seconds // 3600\n",
    "m = (seconds - h * 3600) // 60\n",
    "s = seconds % 60\n",
    "print('이동시간 : ',h,'시간',m,'분', s,'초')"
   ]
  },
  {
   "cell_type": "markdown",
   "id": "64b8b48a",
   "metadata": {},
   "source": [
    "## 3.11"
   ]
  },
  {
   "cell_type": "code",
   "execution_count": 13,
   "id": "ca6ab6f0",
   "metadata": {},
   "outputs": [
    {
     "name": "stdout",
     "output_type": "stream",
     "text": [
      "x1 좌표를 입력하시오 : 3\n",
      "y1 좌표를 입력하시오 : 4\n",
      "x2 좌표를 입력하시오 : 0\n",
      "y2 좌표를 입력하시오 : 0\n",
      "직각삼각형의 면적은 :  6.0\n"
     ]
    }
   ],
   "source": [
    "#7\n",
    "x1 = float(input('x1 좌표를 입력하시오 : '))\n",
    "y1 = float(input('y1 좌표를 입력하시오 : '))\n",
    "x2 = float(input('x2 좌표를 입력하시오 : '))\n",
    "y2 = float(input('y2 좌표를 입력하시오 : '))\n",
    "\n",
    "w = abs(x2 - x1)\n",
    "h = abs(y2 - y1)\n",
    "a = w * h * 0.5\n",
    "print('직각삼각형의 면적은 : ', a)"
   ]
  }
 ],
 "metadata": {
  "kernelspec": {
   "display_name": "Python 3 (ipykernel)",
   "language": "python",
   "name": "python3"
  },
  "language_info": {
   "codemirror_mode": {
    "name": "ipython",
    "version": 3
   },
   "file_extension": ".py",
   "mimetype": "text/x-python",
   "name": "python",
   "nbconvert_exporter": "python",
   "pygments_lexer": "ipython3",
   "version": "3.9.7"
  }
 },
 "nbformat": 4,
 "nbformat_minor": 5
}

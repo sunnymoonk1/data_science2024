{
 "cells": [
  {
   "cell_type": "markdown",
   "id": "989b2c71",
   "metadata": {},
   "source": [
    "# 20244252 류태양 (20241010)    \n",
    "- 6장 함수로 일처리를 짜임새있게 하자  \n",
    "- 류태양   \n",
    "- 20244252  "
   ]
  },
  {
   "cell_type": "markdown",
   "id": "965f5f3e",
   "metadata": {},
   "source": [
    "## 오늘 배운 내용  \n",
    "1.   def라는 함수에 대해 배웠습니다.\n",
    "2.   인자에 대해 배웠습니다."
   ]
  },
  {
   "cell_type": "markdown",
   "id": "0091215d",
   "metadata": {},
   "source": [
    "## 어려운 점들  \n",
    "1.  오늘 배운 함수인 def를 제거하여도 동일하게 작동이 되는데 왜 넣어야 하는지 모르겠습니다.\n",
    "2.  다양한 특수 문자 때문에 오류가 걸리는 일이 많습니다."
   ]
  },
  {
   "cell_type": "markdown",
   "id": "5613421b",
   "metadata": {},
   "source": [
    "## 요점 정리\n",
    "### 1) 함수의 기본 형식을 적어라\n",
    "    1. def 함수이름(매개 변수, ...):\n",
    "    2. def sin(angle):\n",
    "    3. 함수이름(인자, ...)\n",
    "    4. sin(30)\n",
    "### 2) 함수에서 매개 변수/인자 전달 방식은 세가지가 있다. 세가지 방법의 특징을 써라\n",
    "    1. 위치 인자(positional argument): sin(30) : 함수 호출 시 전달하는 인자가 함수 정의에서 매개변수의 위치에 따라 매핑되는 방식입니다.\n",
    "    \n",
    "    2. 키워드 인자(keyword argument): sin(agnle=30) : 함수 호출 시 인자의 이름을 명시하여 전달하는 방식입니다.\n",
    "    \n",
    "    3. 디폴트 인자(default argument): sin() : 함수 호출 시 인자를 생략할 수 있도록 기본값을 지정해 놓은 인자를 말합니다.\n",
    "#### 3) 함수를 이용하는 이유에 대하여 적어라.\n",
    "    1. 코드 재사용성: 함수를 사용하면 동일한 코드를 여러 번 작성할 필요 없이 재사용할 수 있습니다. 이는 코드의 중복을 줄이고 유지보수를 쉽게 만듭니다.\n",
    "    \n",
    "    2. 가독성 향상: 함수를 사용하면 코드가 더 구조화되고 읽기 쉬워집니다. 각 함수는 특정 작업을 수행하므로, 전체 프로그램의 흐름을 이해하기가 더 쉬워집니다.\n",
    "    \n",
    "    3. 모듈화: 함수를 사용하면 프로그램을 작은 모듈로 나눌 수 있습니다. 이는 디버깅과 테스트를 더 쉽게 만들어 줍니다.\n",
    "    \n",
    "    4. 유지보수 용이: 함수는 독립적으로 수정할 수 있어, 프로그램의 다른 부분에 영향을 주지 않고도 특정 기능을 업데이트하거나 수정할 수 있습니다.\n",
    "    \n",
    "    5. 추상화: 함수를 사용하면 복잡한 작업을 단순한 함수 호출로 추상화할 수 있습니다. 이는 프로그램의 복잡성을 줄이고, 개발자가 더 높은 수준의 문제에 집중할 수 있게 합니다.\n",
    "### 4)모듈이란 무엇인가 설명하라.\n",
    "    프로그램의 기능을 독립적인 부품으로 분리한 것입니다. 일반적으로 관련된 함수, 클래스, 변수 등을 하나의 파일에 모아놓은 코드 묶음입니다."
   ]
  },
  {
   "cell_type": "markdown",
   "id": "912cd647",
   "metadata": {},
   "source": [
    "## 주관식 문제\n",
    "1. 함수(function)\n",
    "2. 객체(object)\n",
    "3. 모듈(module)\n",
    "4. def\n",
    "5. 함수 이름, 인수(입력값)\n",
    "6. 매개변수\n",
    "7. 전달 인자\n",
    "8. 반환 값(return value)\n",
    "9. return\n",
    "10. 지역변수(local variable)\n",
    "11. global\n",
    "12. 디폴트 인자(default argument)\n",
    "13. 재귀 함수(recursion)\n",
    "14. 내장 모듈(built-in module)\n",
    "15. as"
   ]
  },
  {
   "cell_type": "markdown",
   "id": "f1f75e87",
   "metadata": {},
   "source": [
    "## 심화문제"
   ]
  },
  {
   "cell_type": "code",
   "execution_count": 26,
   "id": "0bdb96ee",
   "metadata": {},
   "outputs": [
    {
     "name": "stdout",
     "output_type": "stream",
     "text": [
      "3의 제곱은 :  9\n",
      "4의 제곱은 :  16\n"
     ]
    }
   ],
   "source": [
    "def square(n):\n",
    "    sq = n * n\n",
    "    return sq\n",
    "\n",
    "print('3의 제곱은 : ', square(3))\n",
    "print('4의 제곱은 : ', square(4))"
   ]
  },
  {
   "cell_type": "code",
   "execution_count": 29,
   "id": "c0909d26",
   "metadata": {},
   "outputs": [
    {
     "name": "stdout",
     "output_type": "stream",
     "text": [
      "100과 200중 큰 수는 : 200\n",
      "100과 200중 작은 수는 : 100\n"
     ]
    }
   ],
   "source": [
    "def max2(m, n):\n",
    "    if m> n:\n",
    "        return m\n",
    "    else:\n",
    "        return n\n",
    "    \n",
    "def min2(m, n):\n",
    "    if m < n:  \n",
    "        return m\n",
    "    else:\n",
    "        return n\n",
    "    \n",
    "print('100과 200중 큰 수는 :', max(100, 200))\n",
    "print('100과 200중 작은 수는 :', min(100, 200))"
   ]
  },
  {
   "cell_type": "code",
   "execution_count": 34,
   "id": "ad04fa02",
   "metadata": {},
   "outputs": [
    {
     "name": "stdout",
     "output_type": "stream",
     "text": [
      "3 수를 입력하시오 : 34 66 20\n",
      "가장 큰 수 :  66\n",
      "가장 작은 수 :  20\n"
     ]
    }
   ],
   "source": [
    "def max3(n1, n2, n3):\n",
    "    return max(n1, n2, n3)\n",
    "\n",
    "def min3(n1, n2, n3):\n",
    "    return max(n1, n2, n3)\n",
    "\n",
    "n1, n2, n3 = input('3 수를 입력하시오 : ').split()\n",
    "n1, n2, n3 = int(n1), int(n2), int(n3)\n",
    "\n",
    "print('가장 큰 수 : ', max(n1, n2, n3))\n",
    "print('가장 작은 수 : ', min(n1, n2, n3))"
   ]
  },
  {
   "cell_type": "code",
   "execution_count": 50,
   "id": "3fe76250",
   "metadata": {},
   "outputs": [
    {
     "name": "stdout",
     "output_type": "stream",
     "text": [
      " 9.00 -> 48.20\n",
      "19.00 -> 66.20\n",
      "29.00 -> 84.20\n",
      "39.00 -> 102.20\n",
      "49.00 -> 120.20\n",
      "59.00 -> 138.20\n"
     ]
    }
   ],
   "source": [
    "def cel2fah(cel):\n",
    "    fahr = (9/5) * cel + 32\n",
    "    return fahr\n",
    "\n",
    "for cel in range(9, 60, 10):\n",
    "    print('{0:5.2f} -> {1:5.2f}'.format(cel, cel2fah(cel)))"
   ]
  },
  {
   "cell_type": "code",
   "execution_count": 52,
   "id": "7291b63f",
   "metadata": {},
   "outputs": [
    {
     "name": "stdout",
     "output_type": "stream",
     "text": [
      "9 -> 48.2\n",
      "19 -> 66.2\n",
      "29 -> 84.2\n",
      "39 -> 102.2\n",
      "49 -> 120.2\n",
      "59 -> 138.2\n"
     ]
    }
   ],
   "source": [
    "for cel in range(9, 60, 10):\n",
    "    print(f'{cel} -> {cel2fah(cel)}')"
   ]
  },
  {
   "cell_type": "code",
   "execution_count": 23,
   "id": "75dffb90",
   "metadata": {},
   "outputs": [],
   "source": [
    "def factorial(n):\n",
    "    fact = 1\n",
    "    for k in range(n, 0, -1):\n",
    "        fact = fact * k\n",
    "    return fact"
   ]
  }
 ],
 "metadata": {
  "kernelspec": {
   "display_name": "Python 3 (ipykernel)",
   "language": "python",
   "name": "python3"
  },
  "language_info": {
   "codemirror_mode": {
    "name": "ipython",
    "version": 3
   },
   "file_extension": ".py",
   "mimetype": "text/x-python",
   "name": "python",
   "nbconvert_exporter": "python",
   "pygments_lexer": "ipython3",
   "version": "3.9.7"
  }
 },
 "nbformat": 4,
 "nbformat_minor": 5
}

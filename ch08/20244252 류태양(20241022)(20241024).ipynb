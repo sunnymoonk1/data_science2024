{
 "cells": [
  {
   "cell_type": "markdown",
   "id": "0adf2d16",
   "metadata": {},
   "source": [
    "# 20244252 류태양(20241022)(20241024)\n",
    "- 8장 연관된 데이터를 딕셔너리로 짝을 짓자  \n",
    "- 류태양  \n",
    "- 2044252  "
   ]
  },
  {
   "cell_type": "markdown",
   "id": "ec82b195",
   "metadata": {},
   "source": [
    "## 오늘 배운 내용  \n",
    "1. 딕셔너리를 사용하는 방법을 배웠습니다.\n",
    "2. 람다함수는 저장을 하는 것이 아닌 것을 배웠습니다."
   ]
  },
  {
   "cell_type": "markdown",
   "id": "a1c6a456",
   "metadata": {},
   "source": [
    "## 어려운 점들  \n",
    "1.  딕셔너리를 적용할 때 대괄호 중괄호 괄호를 다양하게 사용하여 가끔 무엇을 써야할지 헷갈립니다.\n",
    "2.  항목이나 키, 값을 넣을 때 비슷한 단어를 사용하면 헷갈려서 잘못된 단어를 넣을 때 한 번에 찾기 힘듭니다."
   ]
  },
  {
   "cell_type": "markdown",
   "id": "461a81dc",
   "metadata": {},
   "source": [
    "## 요점정리\n",
    "### 1) 딕셔너리(dictionary)를 만드는 방법을 설명하라\n",
    "- 키-값-쌍(key - value - pair)\n",
    "- 항목 = {}\n",
    "\n",
    "### 2) 딕셔너리에 새로운 요소를 추가하는 방법을 설명하라\n",
    "- 항목[키] = \"값\"\n",
    "\n",
    "### 3) 딕셔너리에 사용하는 메소드를 찾아서 정리해 보자\n",
    "- keys() 딕셔너리 내의 모든 키를 반환한다.\n",
    "- values() 딕셔너리 내의 모든 값을 반환한다.\n",
    "- items() 딕셔너리 내의 모든 항목을 [키]:[값] 쌍으로 반환한다.\n",
    "- get(key) 키에 대한 값을 반환한다. 키가 없으면 None을 반환한다.\n",
    "- pop(key) 키에 대한 값을 반환하고, 그 항목을 삭제한다. 키가 없으면 KeyError 예외를 발생시킨다.\n",
    "- popitem() 제일 마지막에 입력된항목을 반환하고 그 항목을 삭제한다.\n",
    "- clear() 딕셔너리 내의 모든 항목을 삭제한다.\n",
    "\n",
    "### 4) 집합의 중요한 성질을 설명하라\n",
    "- 튜플과 달리 순서가 없는 자료형이다.\n",
    "- 특히 동일한 값을 가지는 항목의 중복이 허용되지 않는다.\n",
    "\n",
    "### 5)리스트, 튜플, 딕셔너리, 집합을 비교하라\n",
    "- 리스트 : 여러 가지 유형의 자료를 한 번에 담고, 인덱스를 이용한다.\n",
    "    순서형(ordered) 자료구조\n",
    "    변경가능(mutable) 자료형\n",
    "- 튜플 : 여러 가지 유형의 자료를 한 번에 담는다.\n",
    "    순서형(ordered) 자료구조\n",
    "    변경불가능(immutable) 자료형\n",
    "- 집합 : 여러 가지 유형의 자료를 한 번에 담지만, 순서가 존재하지 않고 중복을 허용하지 않는다.\n",
    "    비순서형(unordered) 자료구조\n",
    "    빠르게 제거는 리스트 자료형에서 집합 자료형으로 변경 후 리스트로 변경하면 된다.\n",
    "- 딕셔너리 : 키 - 값 싸으로 자료형으로 저장되고 유일한 키로 값에 접근 가능함.\n",
    "    딕셔너리의 키는 문자열, 정수, 튜플 등이 될 수 있다."
   ]
  },
  {
   "cell_type": "code",
   "execution_count": 51,
   "id": "f7995a22",
   "metadata": {},
   "outputs": [
    {
     "data": {
      "text/plain": [
       "(1, 3, 5, 1, 2, 2, 3)"
      ]
     },
     "execution_count": 51,
     "metadata": {},
     "output_type": "execute_result"
    }
   ],
   "source": [
    "my_list = (1, 3, 5, 1, 2, 2, 3)\n",
    "my_list"
   ]
  },
  {
   "cell_type": "code",
   "execution_count": 48,
   "id": "aee4c981",
   "metadata": {},
   "outputs": [
    {
     "data": {
      "text/plain": [
       "{1, 2, 3, 5}"
      ]
     },
     "execution_count": 48,
     "metadata": {},
     "output_type": "execute_result"
    }
   ],
   "source": [
    "my_set = {1, 3, 5, 1, 2, 2, 3}\n",
    "my_set"
   ]
  },
  {
   "cell_type": "code",
   "execution_count": 52,
   "id": "e5d51dba",
   "metadata": {},
   "outputs": [
    {
     "data": {
      "text/plain": [
       "{1, 2, 3, 5}"
      ]
     },
     "execution_count": 52,
     "metadata": {},
     "output_type": "execute_result"
    }
   ],
   "source": [
    "my_set = set(my_list)\n",
    "my_set"
   ]
  },
  {
   "cell_type": "code",
   "execution_count": 55,
   "id": "578aede9",
   "metadata": {},
   "outputs": [
    {
     "data": {
      "text/plain": [
       "{1, 3, 4, 5, 6, 7, 8}"
      ]
     },
     "execution_count": 55,
     "metadata": {},
     "output_type": "execute_result"
    }
   ],
   "source": [
    "A = {1, 3, 5, 7}\n",
    "B = {3, 4, 5, 6, 7, 8}\n",
    "A.union(B)"
   ]
  },
  {
   "cell_type": "code",
   "execution_count": 56,
   "id": "fb4b70b9",
   "metadata": {},
   "outputs": [
    {
     "data": {
      "text/plain": [
       "{1}"
      ]
     },
     "execution_count": 56,
     "metadata": {},
     "output_type": "execute_result"
    }
   ],
   "source": [
    "A.difference(B)"
   ]
  },
  {
   "cell_type": "code",
   "execution_count": 57,
   "id": "dbaa99c1",
   "metadata": {},
   "outputs": [
    {
     "data": {
      "text/plain": [
       "{3, 5, 7}"
      ]
     },
     "execution_count": 57,
     "metadata": {},
     "output_type": "execute_result"
    }
   ],
   "source": [
    "A & B"
   ]
  },
  {
   "cell_type": "code",
   "execution_count": 58,
   "id": "49f90c84",
   "metadata": {},
   "outputs": [
    {
     "data": {
      "text/plain": [
       "{1, 3, 4, 5, 6, 7, 8}"
      ]
     },
     "execution_count": 58,
     "metadata": {},
     "output_type": "execute_result"
    }
   ],
   "source": [
    "A | B"
   ]
  },
  {
   "cell_type": "code",
   "execution_count": 59,
   "id": "71fb951e",
   "metadata": {},
   "outputs": [
    {
     "data": {
      "text/plain": [
       "{1}"
      ]
     },
     "execution_count": 59,
     "metadata": {},
     "output_type": "execute_result"
    }
   ],
   "source": [
    "A - B"
   ]
  },
  {
   "cell_type": "code",
   "execution_count": 60,
   "id": "17379df5",
   "metadata": {},
   "outputs": [
    {
     "data": {
      "text/plain": [
       "{1, 4, 6, 8}"
      ]
     },
     "execution_count": 60,
     "metadata": {},
     "output_type": "execute_result"
    }
   ],
   "source": [
    "A ^ B"
   ]
  },
  {
   "cell_type": "code",
   "execution_count": null,
   "id": "fac7a243",
   "metadata": {},
   "outputs": [],
   "source": [
    "my_dict = {}\n",
    "type(my_dict)"
   ]
  },
  {
   "cell_type": "code",
   "execution_count": 38,
   "id": "9addb704",
   "metadata": {},
   "outputs": [
    {
     "data": {
      "text/plain": [
       "{}"
      ]
     },
     "execution_count": 38,
     "metadata": {},
     "output_type": "execute_result"
    }
   ],
   "source": [
    "my_dict = dict()\n",
    "my_dict"
   ]
  },
  {
   "cell_type": "code",
   "execution_count": 39,
   "id": "a68137ae",
   "metadata": {},
   "outputs": [
    {
     "data": {
      "text/plain": [
       "{'name': 'taeyang', 'age': 20}"
      ]
     },
     "execution_count": 39,
     "metadata": {},
     "output_type": "execute_result"
    }
   ],
   "source": [
    "my_dict = {'name':'taeyang'}\n",
    "my_dict['age'] = 20\n",
    "my_dict"
   ]
  },
  {
   "cell_type": "code",
   "execution_count": 40,
   "id": "72bc20d8",
   "metadata": {},
   "outputs": [
    {
     "data": {
      "text/plain": [
       "{'name': 'taeyang', 'age': 20, 'height': 183}"
      ]
     },
     "execution_count": 40,
     "metadata": {},
     "output_type": "execute_result"
    }
   ],
   "source": [
    "my_dict['height'] = 183\n",
    "my_dict"
   ]
  },
  {
   "cell_type": "code",
   "execution_count": 41,
   "id": "f10adde9",
   "metadata": {},
   "outputs": [
    {
     "data": {
      "text/plain": [
       "{'name': 'taeyang', 'age': 20, 'height': 183, 'weight': 93}"
      ]
     },
     "execution_count": 41,
     "metadata": {},
     "output_type": "execute_result"
    }
   ],
   "source": [
    "my_dict['weight'] = 93\n",
    "my_dict"
   ]
  },
  {
   "cell_type": "code",
   "execution_count": 11,
   "id": "1abe2512",
   "metadata": {},
   "outputs": [
    {
     "data": {
      "text/plain": [
       "183"
      ]
     },
     "execution_count": 11,
     "metadata": {},
     "output_type": "execute_result"
    }
   ],
   "source": [
    "my_dict['height']"
   ]
  },
  {
   "cell_type": "code",
   "execution_count": 42,
   "id": "5b6c50b8",
   "metadata": {},
   "outputs": [
    {
     "data": {
      "text/plain": [
       "93"
      ]
     },
     "execution_count": 42,
     "metadata": {},
     "output_type": "execute_result"
    }
   ],
   "source": [
    "my_dict['weight']"
   ]
  },
  {
   "cell_type": "code",
   "execution_count": 43,
   "id": "511d6979",
   "metadata": {},
   "outputs": [
    {
     "data": {
      "text/plain": [
       "{'name': 'taeyang',\n",
       " 'age': 20,\n",
       " 'height': 183,\n",
       " 'weight': 93,\n",
       " 'bmi': 27.77031263997133}"
      ]
     },
     "execution_count": 43,
     "metadata": {},
     "output_type": "execute_result"
    }
   ],
   "source": [
    "my_dict['bmi'] = my_dict['weight'] / (my_dict['height']/100) ** 2\n",
    "my_dict"
   ]
  },
  {
   "cell_type": "code",
   "execution_count": 22,
   "id": "a4ac518a",
   "metadata": {},
   "outputs": [
    {
     "data": {
      "text/plain": [
       "dict_keys(['name', 'age', 'height', 'weight', 'bmi'])"
      ]
     },
     "execution_count": 22,
     "metadata": {},
     "output_type": "execute_result"
    }
   ],
   "source": [
    "my_dict.keys()"
   ]
  },
  {
   "cell_type": "code",
   "execution_count": 23,
   "id": "cb86201d",
   "metadata": {},
   "outputs": [
    {
     "data": {
      "text/plain": [
       "dict_values(['taeyang', 20, 183, 93, 27.77031263997133])"
      ]
     },
     "execution_count": 23,
     "metadata": {},
     "output_type": "execute_result"
    }
   ],
   "source": [
    "my_dict.values()"
   ]
  },
  {
   "cell_type": "code",
   "execution_count": 24,
   "id": "bdfe9988",
   "metadata": {},
   "outputs": [
    {
     "data": {
      "text/plain": [
       "dict_items([('name', 'taeyang'), ('age', 20), ('height', 183), ('weight', 93), ('bmi', 27.77031263997133)])"
      ]
     },
     "execution_count": 24,
     "metadata": {},
     "output_type": "execute_result"
    }
   ],
   "source": [
    "my_dict.items()"
   ]
  },
  {
   "cell_type": "code",
   "execution_count": 25,
   "id": "0c1fd3c6",
   "metadata": {},
   "outputs": [
    {
     "data": {
      "text/plain": [
       "'taeyang'"
      ]
     },
     "execution_count": 25,
     "metadata": {},
     "output_type": "execute_result"
    }
   ],
   "source": [
    "my_dict['name']"
   ]
  },
  {
   "cell_type": "code",
   "execution_count": 27,
   "id": "89539a35",
   "metadata": {},
   "outputs": [
    {
     "data": {
      "text/plain": [
       "'taeyang'"
      ]
     },
     "execution_count": 27,
     "metadata": {},
     "output_type": "execute_result"
    }
   ],
   "source": [
    "my_dict.get('name')"
   ]
  },
  {
   "cell_type": "code",
   "execution_count": 28,
   "id": "8324a3c6",
   "metadata": {},
   "outputs": [
    {
     "ename": "KeyError",
     "evalue": "'이름'",
     "output_type": "error",
     "traceback": [
      "\u001b[1;31m---------------------------------------------------------------------------\u001b[0m",
      "\u001b[1;31mKeyError\u001b[0m                                  Traceback (most recent call last)",
      "\u001b[1;32mC:\\Users\\ADMINI~1\\AppData\\Local\\Temp/ipykernel_2240/3114593688.py\u001b[0m in \u001b[0;36m<module>\u001b[1;34m\u001b[0m\n\u001b[1;32m----> 1\u001b[1;33m \u001b[0mmy_dict\u001b[0m\u001b[1;33m[\u001b[0m\u001b[1;34m'이름'\u001b[0m\u001b[1;33m]\u001b[0m\u001b[1;33m\u001b[0m\u001b[1;33m\u001b[0m\u001b[0m\n\u001b[0m",
      "\u001b[1;31mKeyError\u001b[0m: '이름'"
     ]
    }
   ],
   "source": [
    "my_dict['이름']"
   ]
  },
  {
   "cell_type": "code",
   "execution_count": 30,
   "id": "b11d73b1",
   "metadata": {},
   "outputs": [],
   "source": [
    "my_dict.get('이름')"
   ]
  },
  {
   "cell_type": "code",
   "execution_count": 31,
   "id": "217660ea",
   "metadata": {},
   "outputs": [
    {
     "data": {
      "text/plain": [
       "20"
      ]
     },
     "execution_count": 31,
     "metadata": {},
     "output_type": "execute_result"
    }
   ],
   "source": [
    "my_dict.pop('age')"
   ]
  },
  {
   "cell_type": "code",
   "execution_count": 32,
   "id": "302a87df",
   "metadata": {},
   "outputs": [
    {
     "data": {
      "text/plain": [
       "{'name': 'taeyang', 'height': 183, 'weight': 93, 'bmi': 27.77031263997133}"
      ]
     },
     "execution_count": 32,
     "metadata": {},
     "output_type": "execute_result"
    }
   ],
   "source": [
    "my_dict"
   ]
  },
  {
   "cell_type": "code",
   "execution_count": 35,
   "id": "a4759137",
   "metadata": {},
   "outputs": [],
   "source": [
    "my_dict.clear()"
   ]
  },
  {
   "cell_type": "code",
   "execution_count": 77,
   "id": "88232c7b",
   "metadata": {},
   "outputs": [
    {
     "data": {
      "text/plain": [
       "8"
      ]
     },
     "execution_count": 77,
     "metadata": {},
     "output_type": "execute_result"
    }
   ],
   "source": [
    "def add2(a, b):\n",
    "    return a + b\n",
    "\n",
    "add2(3, 5)"
   ]
  },
  {
   "cell_type": "code",
   "execution_count": 73,
   "id": "e490696e",
   "metadata": {},
   "outputs": [
    {
     "data": {
      "text/plain": [
       "8"
      ]
     },
     "execution_count": 73,
     "metadata": {},
     "output_type": "execute_result"
    }
   ],
   "source": [
    "(lambda a , b : a + b)(3 , 5)"
   ]
  },
  {
   "cell_type": "markdown",
   "id": "4ce87427",
   "metadata": {},
   "source": [
    "## 8단원 끝에 있는 핵심정리를 적어라"
   ]
  },
  {
   "cell_type": "markdown",
   "id": "6783c45b",
   "metadata": {},
   "source": [
    "## 주관식문제\n",
    "1. 딕셔너리(dictionary), 줄여서 dict(딕트)라고 함\n",
    "2. 중괄호 {}\n",
    "3. keys()\n",
    "4. values()\n",
    "5. items()\n",
    "6. clear()\n",
    "7. 람다 함수, 람다 표현식(lambda expression)\n",
    "8. 집합(set)\n",
    "9. add()\n",
    "10. |, union()\n",
    "11. &, intersection()\n",
    "12. -, difference()\n",
    "13. ^, symmetric_difference()"
   ]
  },
  {
   "cell_type": "markdown",
   "id": "742bdf90",
   "metadata": {},
   "source": [
    "## 심화문제"
   ]
  },
  {
   "cell_type": "code",
   "execution_count": 94,
   "id": "b9619a42",
   "metadata": {},
   "outputs": [
    {
     "name": "stdout",
     "output_type": "stream",
     "text": [
      "사과, 배, 수박, 귤, 포도, 가격을 공백으로 구분하여 입력: 3000 4500 6000 2400 3400\n"
     ]
    },
    {
     "data": {
      "text/plain": [
       "['3000', '4500', '6000', '2400', '3400']"
      ]
     },
     "execution_count": 94,
     "metadata": {},
     "output_type": "execute_result"
    }
   ],
   "source": [
    "#8.1\n",
    "fruit_price = {'사과':0, '배':0, '수박':0, '귤':0, '포도':0}\n",
    "prices = input('사과, 배, 수박, 귤, 포도, 가격을 공백으로 구분하여 입력: ').split()\n",
    "prices"
   ]
  },
  {
   "cell_type": "code",
   "execution_count": 95,
   "id": "56d55256",
   "metadata": {},
   "outputs": [
    {
     "data": {
      "text/plain": [
       "{'사과': '3000', '배': '4500', '수박': '6000', '귤': '2400', '포도': '3400'}"
      ]
     },
     "execution_count": 95,
     "metadata": {},
     "output_type": "execute_result"
    }
   ],
   "source": [
    "#8.1\n",
    "i = 0\n",
    "for k in fruit_price:\n",
    "    fruit_price[k] = prices[i]\n",
    "    i += 1\n",
    "\n",
    "fruit_price"
   ]
  },
  {
   "cell_type": "code",
   "execution_count": 96,
   "id": "00bf56ca",
   "metadata": {},
   "outputs": [
    {
     "data": {
      "text/plain": [
       "{'사과': '3000', '배': '4500', '수박': '6000', '귤': '2400', '포도': '3400'}"
      ]
     },
     "execution_count": 96,
     "metadata": {},
     "output_type": "execute_result"
    }
   ],
   "source": [
    "{k:v for (k,v) in zip(fruit_price.keys(), prices)}"
   ]
  },
  {
   "cell_type": "code",
   "execution_count": 98,
   "id": "f0dbf0aa",
   "metadata": {},
   "outputs": [
    {
     "data": {
      "text/plain": [
       "{'사과': '3000', '배': '4500', '수박': '6000', '귤': '2400', '포도': '3400'}"
      ]
     },
     "execution_count": 98,
     "metadata": {},
     "output_type": "execute_result"
    }
   ],
   "source": [
    "names = list(fruit_price.keys())\n",
    "for i in range(len(prices)):\n",
    "    fruit_price[names[i]] = prices[i]\n",
    "    \n",
    "fruit_price"
   ]
  },
  {
   "cell_type": "code",
   "execution_count": 8,
   "id": "5957d765",
   "metadata": {},
   "outputs": [
    {
     "name": "stdout",
     "output_type": "stream",
     "text": [
      "['사과', '배', '수박', '귤', '포도']\n",
      "사과, 배, 수박, 귤, 포도, 가격을 공백으로 구분하여 입력: 3000 4500 6000 2400 3400\n",
      "['3000', '4500', '6000', '2400', '3400']\n"
     ]
    },
    {
     "data": {
      "text/plain": [
       "{'사과': '3000', '배': '4500', '수박': '6000', '귤': '2400', '포도': '3400'}"
      ]
     },
     "execution_count": 8,
     "metadata": {},
     "output_type": "execute_result"
    }
   ],
   "source": [
    "fruit_price = {'사과':0, '배':0, '수박':0, '귤':0, '포도':0}\n",
    "names = list(fruit_price.keys())\n",
    "print(names)\n",
    "prices = input('사과, 배, 수박, 귤, 포도, 가격을 공백으로 구분하여 입력: ').split()\n",
    "print(prices)\n",
    "for i in range(len(prices)):\n",
    "     fruit_price[names[i]] = prices[i]\n",
    "        \n",
    "fruit_price"
   ]
  },
  {
   "cell_type": "code",
   "execution_count": 23,
   "id": "1a23c48e",
   "metadata": {},
   "outputs": [
    {
     "name": "stdout",
     "output_type": "stream",
     "text": [
      "구매를 원하는 과일 이름을 입력하세요:수박\n",
      "오늘의 수박의 가격은 6000 원 입니다.\n"
     ]
    }
   ],
   "source": [
    "fruit = input(\"구매를 원하는 과일 이름을 입력하세요:\")\n",
    "print(f'오늘의 {fruit}의 가격은 {fruit_price[fruit]} 원 입니다.')"
   ]
  },
  {
   "cell_type": "code",
   "execution_count": 1,
   "id": "37e6f12e",
   "metadata": {},
   "outputs": [
    {
     "data": {
      "text/plain": [
       "{'241101': ['박동윤', '010-1234-4500'],\n",
       " '241102': ['김은지', '010-2230-6510'],\n",
       " '241103': ['이지은', '010-3232-7788']}"
      ]
     },
     "execution_count": 1,
     "metadata": {},
     "output_type": "execute_result"
    }
   ],
   "source": [
    "student_tup = (('241101', '박동윤', '010-1234-4500'), \n",
    "               ('241102', '김은지', '010-2230-6510'), \n",
    "               ('241103', '이지은', '010-3232-7788'))\n",
    "\n",
    "student_dict = {}\n",
    "for student in student_tup:\n",
    "    student_dict[student[0]] = list(student[1:])\n",
    "    \n",
    "student_dict"
   ]
  },
  {
   "cell_type": "code",
   "execution_count": null,
   "id": "e333bd49",
   "metadata": {},
   "outputs": [],
   "source": [
    "id = input('학번을 입력하세요 : ')\n",
    "print('이름:',student_dict[id][0])\n",
    "print('연락처:',student_dict[id][1])"
   ]
  },
  {
   "cell_type": "code",
   "execution_count": 2,
   "id": "821f2c33",
   "metadata": {},
   "outputs": [
    {
     "data": {
      "text/plain": [
       "{'241101': ['박동윤', '010-1234-4500', 4.3],\n",
       " '241102': ['김은지', '010-2230-6510', 3.9],\n",
       " '241103': ['이지은', '010-3232-7788', 4.25]}"
      ]
     },
     "execution_count": 2,
     "metadata": {},
     "output_type": "execute_result"
    }
   ],
   "source": [
    "student_dict['241101'].append(4.3)\n",
    "student_dict['241102'].append(3.9)\n",
    "student_dict['241103'].append(4.25)\n",
    "student_dict"
   ]
  },
  {
   "cell_type": "code",
   "execution_count": 3,
   "id": "bda06344",
   "metadata": {},
   "outputs": [
    {
     "data": {
      "text/plain": [
       "{'241101': ['박동윤', '010-1234-4500', 4.3, 4.3],\n",
       " '241102': ['김은지', '010-2230-6510', 3.9, 3.9],\n",
       " '241103': ['이지은', '010-3232-7788', 4.25, 4.25]}"
      ]
     },
     "execution_count": 3,
     "metadata": {},
     "output_type": "execute_result"
    }
   ],
   "source": [
    "ids = list(student_dict.keys())\n",
    "grades = [4.3, 3.9, 4.25]\n",
    "\n",
    "for i in range(len(ids)):\n",
    "    student_dict[ids[i]].append(grades[i])\n",
    "    \n",
    "student_dict"
   ]
  },
  {
   "cell_type": "code",
   "execution_count": 4,
   "id": "09f2c404",
   "metadata": {},
   "outputs": [
    {
     "data": {
      "text/plain": [
       "4.1499999999999995"
      ]
     },
     "execution_count": 4,
     "metadata": {},
     "output_type": "execute_result"
    }
   ],
   "source": [
    "s = 0\n",
    "for v in student_dict.values():\n",
    "    s += v[-1]\n",
    "    \n",
    "s / len(student_dict)"
   ]
  },
  {
   "cell_type": "code",
   "execution_count": 25,
   "id": "773086b9",
   "metadata": {},
   "outputs": [
    {
     "name": "stdout",
     "output_type": "stream",
     "text": [
      "전체 원소 :  [10, 20, 30, 40, 50]\n"
     ]
    }
   ],
   "source": [
    "lst = [10, 30, 40, 50, 30, 30, 20, 20, 20, 10, 30]\n",
    "print('전체 원소 : ', sorted(list(set(lst))))"
   ]
  },
  {
   "cell_type": "code",
   "execution_count": 26,
   "id": "233db975",
   "metadata": {},
   "outputs": [
    {
     "data": {
      "text/plain": [
       "{10: 2, 20: 3, 30: 4, 40: 1, 50: 1}"
      ]
     },
     "execution_count": 26,
     "metadata": {},
     "output_type": "execute_result"
    }
   ],
   "source": [
    "freq_dict = {}\n",
    "for n in sorted(set(lst)):\n",
    "    freq_dict[n] = lst.count(n)\n",
    "    \n",
    "freq_dict"
   ]
  },
  {
   "cell_type": "code",
   "execution_count": 27,
   "id": "d3d52de2",
   "metadata": {},
   "outputs": [
    {
     "name": "stdout",
     "output_type": "stream",
     "text": [
      "10의 출현빈도 2\n",
      "20의 출현빈도 3\n",
      "30의 출현빈도 4\n"
     ]
    }
   ],
   "source": [
    "for n, v in freq_dict.items():\n",
    "    if freq_dict[n] >= 2:\n",
    "        print(f'{n}의 출현빈도 {v}')"
   ]
  },
  {
   "cell_type": "code",
   "execution_count": 28,
   "id": "96050a7c",
   "metadata": {},
   "outputs": [
    {
     "name": "stdout",
     "output_type": "stream",
     "text": [
      "중복이 없는 원소들 : [40, 50]\n"
     ]
    }
   ],
   "source": [
    "not_duplicated = []\n",
    "for k, v in freq_dict.items():\n",
    "    if v == 1:\n",
    "        not_duplicated.append(k)\n",
    "        \n",
    "print('중복이 없는 원소들 :', not_duplicated)"
   ]
  },
  {
   "cell_type": "code",
   "execution_count": 30,
   "id": "8257681a",
   "metadata": {},
   "outputs": [
    {
     "name": "stdout",
     "output_type": "stream",
     "text": [
      "두 정수를 입력하시오 : 4 9\n"
     ]
    }
   ],
   "source": [
    "num = input('두 정수를 입력하시오 : ')\n",
    "mylist = [(1, 2), (4, 5), (4, 2), (3, 1), (9, 4)]"
   ]
  },
  {
   "cell_type": "code",
   "execution_count": 33,
   "id": "84d3995a",
   "metadata": {},
   "outputs": [
    {
     "name": "stdout",
     "output_type": "stream",
     "text": [
      "두 정수를 입력하시오 : 4 9\n",
      "(4, 9) 요소는 없으나 5번째에 (9, 4) 요소가 있습니다.\n"
     ]
    }
   ],
   "source": [
    "num = input('두 정수를 입력하시오 : ').split()\n",
    "a, b = int(num[0]), int(num[1])\n",
    "mylist = [(1, 2), (4, 5), (4, 2), (3, 1), (9, 4)]\n",
    "\n",
    "found = False\n",
    "\n",
    "for index, (m, n) in enumerate(mylist):\n",
    "    if (m, n) == (a, b):\n",
    "        print(f'{index + 1}번째에 ({a}, {b}) 요소가 있습니다.')\n",
    "        found = True\n",
    "        break\n",
    "\n",
    "if not found:\n",
    "    for index, (m, n) in enumerate(mylist):\n",
    "        if (m, n) == (b, a):\n",
    "            print(f'({a}, {b}) 요소는 없으나 {index + 1}번째에 ({b}, {a}) 요소가 있습니다.')\n",
    "            found = True\n",
    "            break\n",
    "\n",
    "if not found:\n",
    "    print(f'({a}, {b}) 또는 ({b}, {a}) 요소가 리스트에 없습니다.')"
   ]
  }
 ],
 "metadata": {
  "kernelspec": {
   "display_name": "Python 3 (ipykernel)",
   "language": "python",
   "name": "python3"
  },
  "language_info": {
   "codemirror_mode": {
    "name": "ipython",
    "version": 3
   },
   "file_extension": ".py",
   "mimetype": "text/x-python",
   "name": "python",
   "nbconvert_exporter": "python",
   "pygments_lexer": "ipython3",
   "version": "3.9.7"
  }
 },
 "nbformat": 4,
 "nbformat_minor": 5
}

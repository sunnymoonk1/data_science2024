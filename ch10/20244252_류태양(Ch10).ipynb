{
 "cells": [
  {
   "cell_type": "markdown",
   "id": "7b22dced",
   "metadata": {},
   "source": [
    "# 20244252 류태양(20241105, 20241107)\n",
    "- 10자 넘파이로 수치 데이터를 처리해보자\n",
    "- 류태양  \n",
    "- 2044252  "
   ]
  },
  {
   "cell_type": "markdown",
   "id": "067fa377",
   "metadata": {},
   "source": [
    "## 오늘 배울 내용\n",
    "1. 넘파이이라는 리스트와 비슷하지만 연산 속도가 빠른 것을 배웠다.\n",
    "2. 난수를 seed를 사용하여 동일하게 하는 방법을 배웠습니다."
   ]
  },
  {
   "cell_type": "markdown",
   "id": "b4670bc9",
   "metadata": {},
   "source": [
    "## 어려운 점들\n",
    "1. 다차원으로 가면 갈 수록 대괄호를 많이 써서 대괄호가 한 눈에 보이지 않아 찾기 힘들다.\n",
    "2. 외워야하는 메소드가 너무 많아서 한 번에 무엇인지 알기 힘드네요."
   ]
  },
  {
   "cell_type": "code",
   "execution_count": 4,
   "id": "3b1b607a",
   "metadata": {},
   "outputs": [
    {
     "name": "stdout",
     "output_type": "stream",
     "text": [
      "Requirement already satisfied: numpy in c:\\programdata\\anaconda3\\lib\\site-packages (1.20.3)\n"
     ]
    }
   ],
   "source": [
    "!pip install numpy"
   ]
  },
  {
   "cell_type": "code",
   "execution_count": 5,
   "id": "372ab1c7",
   "metadata": {},
   "outputs": [
    {
     "name": "stdout",
     "output_type": "stream",
     "text": [
      "[1.0, 2.0, 3.0] [1. 2. 3.]\n",
      "<class 'numpy.ndarray'> <class 'list'>\n"
     ]
    }
   ],
   "source": [
    "import numpy as np\n",
    "#array\n",
    "a_list = [1.,2.,3.,]\n",
    "a_np = np.array([1.,2.,3.])\n",
    "print(a_list, a_np)\n",
    "print(type(a_np), type(a_list))"
   ]
  },
  {
   "cell_type": "code",
   "execution_count": 3,
   "id": "10f85c36",
   "metadata": {},
   "outputs": [
    {
     "name": "stdout",
     "output_type": "stream",
     "text": [
      "2.23 ms ± 69.8 µs per loop (mean ± std. dev. of 7 runs, 100 loops each)\n"
     ]
    }
   ],
   "source": [
    "%timeit sum(range(100000))"
   ]
  },
  {
   "cell_type": "code",
   "execution_count": 4,
   "id": "248a9577",
   "metadata": {},
   "outputs": [
    {
     "name": "stdout",
     "output_type": "stream",
     "text": [
      "126 µs ± 3.33 µs per loop (mean ± std. dev. of 7 runs, 10000 loops each)\n"
     ]
    }
   ],
   "source": [
    "%timeit np.sum(np.arange(100000))"
   ]
  },
  {
   "cell_type": "code",
   "execution_count": null,
   "id": "d38cef55",
   "metadata": {},
   "outputs": [],
   "source": [
    "36..5 # scalar, 0차원 배열"
   ]
  },
  {
   "cell_type": "code",
   "execution_count": 6,
   "id": "8735f00e",
   "metadata": {},
   "outputs": [
    {
     "data": {
      "text/plain": [
       "array([36.5])"
      ]
     },
     "execution_count": 6,
     "metadata": {},
     "output_type": "execute_result"
    }
   ],
   "source": [
    "np.array([36.5])"
   ]
  },
  {
   "cell_type": "code",
   "execution_count": 5,
   "id": "ddbc4ccf",
   "metadata": {},
   "outputs": [
    {
     "data": {
      "text/plain": [
       "array([60.])"
      ]
     },
     "execution_count": 5,
     "metadata": {},
     "output_type": "execute_result"
    }
   ],
   "source": [
    "np.array([60.]) # vector , 1차원 배열"
   ]
  },
  {
   "cell_type": "code",
   "execution_count": null,
   "id": "2f29bb8c",
   "metadata": {},
   "outputs": [],
   "source": [
    "np.array([60, 170.0]) # vector , 1차원 배열"
   ]
  },
  {
   "cell_type": "code",
   "execution_count": 7,
   "id": "35c59956",
   "metadata": {},
   "outputs": [
    {
     "data": {
      "text/plain": [
       "array([[1, 2],\n",
       "       [3, 4],\n",
       "       [5, 6]])"
      ]
     },
     "execution_count": 7,
     "metadata": {},
     "output_type": "execute_result"
    }
   ],
   "source": [
    "np.array([[1, 2], \n",
    "          [3, 4], \n",
    "          [5, 6]]) # matrix, 2차원 배열"
   ]
  },
  {
   "cell_type": "code",
   "execution_count": 13,
   "id": "548a15ce",
   "metadata": {},
   "outputs": [],
   "source": [
    "d = np.array([[[1, 2], [3, 4], [5, 6]],\n",
    "              [[6, 7], [8, 9], [10, 11]],\n",
    "              [[12, 13], [14, 15], [16, 17]]]) # tensor, 3차원 배열"
   ]
  },
  {
   "cell_type": "code",
   "execution_count": 18,
   "id": "c82a2265",
   "metadata": {},
   "outputs": [
    {
     "data": {
      "text/plain": [
       "dtype('int32')"
      ]
     },
     "execution_count": 18,
     "metadata": {},
     "output_type": "execute_result"
    }
   ],
   "source": [
    "d.dtype"
   ]
  },
  {
   "cell_type": "code",
   "execution_count": 15,
   "id": "00dc3f65",
   "metadata": {},
   "outputs": [
    {
     "data": {
      "text/plain": [
       "array([0.75728155, 0.44660194, 1.5631068 ])"
      ]
     },
     "execution_count": 15,
     "metadata": {},
     "output_type": "execute_result"
    }
   ],
   "source": [
    "A = np.array([[3, 4, 7],\n",
    "             [1, -1, 3],\n",
    "             [-3, 2, 6]])\n",
    "b = np.array([15, 5, 8])\n",
    "\n",
    "x = np.linalg.solve(A,b)\n",
    "x"
   ]
  },
  {
   "cell_type": "code",
   "execution_count": 12,
   "id": "06c9cd2f",
   "metadata": {},
   "outputs": [
    {
     "data": {
      "text/plain": [
       "array([15.,  5.,  8.])"
      ]
     },
     "execution_count": 12,
     "metadata": {},
     "output_type": "execute_result"
    }
   ],
   "source": [
    "A.dot(x)"
   ]
  },
  {
   "cell_type": "code",
   "execution_count": 13,
   "id": "ba317ce5",
   "metadata": {},
   "outputs": [
    {
     "data": {
      "text/plain": [
       "2"
      ]
     },
     "execution_count": 13,
     "metadata": {},
     "output_type": "execute_result"
    }
   ],
   "source": [
    "A.ndim"
   ]
  },
  {
   "cell_type": "code",
   "execution_count": 14,
   "id": "151b03b4",
   "metadata": {},
   "outputs": [
    {
     "data": {
      "text/plain": [
       "1"
      ]
     },
     "execution_count": 14,
     "metadata": {},
     "output_type": "execute_result"
    }
   ],
   "source": [
    "b.ndim"
   ]
  },
  {
   "cell_type": "code",
   "execution_count": 17,
   "id": "8ffa1914",
   "metadata": {},
   "outputs": [
    {
     "data": {
      "text/plain": [
       "0"
      ]
     },
     "execution_count": 17,
     "metadata": {},
     "output_type": "execute_result"
    }
   ],
   "source": [
    "c = np.array(3)\n",
    "c.ndim"
   ]
  },
  {
   "cell_type": "code",
   "execution_count": 18,
   "id": "9b24e4a7",
   "metadata": {},
   "outputs": [
    {
     "data": {
      "text/plain": [
       "(3,)"
      ]
     },
     "execution_count": 18,
     "metadata": {},
     "output_type": "execute_result"
    }
   ],
   "source": [
    "b.shape"
   ]
  },
  {
   "cell_type": "code",
   "execution_count": 19,
   "id": "3c517249",
   "metadata": {},
   "outputs": [
    {
     "data": {
      "text/plain": [
       "(3, 3)"
      ]
     },
     "execution_count": 19,
     "metadata": {},
     "output_type": "execute_result"
    }
   ],
   "source": [
    "A.shape"
   ]
  },
  {
   "cell_type": "code",
   "execution_count": 20,
   "id": "8d63e8a5",
   "metadata": {},
   "outputs": [
    {
     "data": {
      "text/plain": [
       "()"
      ]
     },
     "execution_count": 20,
     "metadata": {},
     "output_type": "execute_result"
    }
   ],
   "source": [
    "c.shape"
   ]
  },
  {
   "cell_type": "code",
   "execution_count": 21,
   "id": "520647b9",
   "metadata": {},
   "outputs": [
    {
     "data": {
      "text/plain": [
       "dtype('int32')"
      ]
     },
     "execution_count": 21,
     "metadata": {},
     "output_type": "execute_result"
    }
   ],
   "source": [
    "A.dtype"
   ]
  },
  {
   "cell_type": "code",
   "execution_count": 22,
   "id": "c002a23e",
   "metadata": {},
   "outputs": [
    {
     "data": {
      "text/plain": [
       "dtype('float64')"
      ]
     },
     "execution_count": 22,
     "metadata": {},
     "output_type": "execute_result"
    }
   ],
   "source": [
    "x.dtype"
   ]
  },
  {
   "cell_type": "code",
   "execution_count": 16,
   "id": "e47716dc",
   "metadata": {},
   "outputs": [
    {
     "data": {
      "text/plain": [
       "array([[ 3,  4,  7],\n",
       "       [ 1, -1,  3],\n",
       "       [-3,  2,  6]])"
      ]
     },
     "execution_count": 16,
     "metadata": {},
     "output_type": "execute_result"
    }
   ],
   "source": [
    "A"
   ]
  },
  {
   "cell_type": "code",
   "execution_count": 17,
   "id": "43ddd76d",
   "metadata": {},
   "outputs": [
    {
     "data": {
      "text/plain": [
       "array([ 4, -1,  2])"
      ]
     },
     "execution_count": 17,
     "metadata": {},
     "output_type": "execute_result"
    }
   ],
   "source": [
    "A[:,1]"
   ]
  },
  {
   "cell_type": "code",
   "execution_count": 20,
   "id": "3b105631",
   "metadata": {},
   "outputs": [
    {
     "data": {
      "text/plain": [
       "array([3, 4, 7, 1, 3, 2, 6])"
      ]
     },
     "execution_count": 20,
     "metadata": {},
     "output_type": "execute_result"
    }
   ],
   "source": [
    "A[A > 0]"
   ]
  },
  {
   "cell_type": "code",
   "execution_count": 23,
   "id": "4f0152ae",
   "metadata": {},
   "outputs": [
    {
     "data": {
      "text/plain": [
       "2.4444444444444446"
      ]
     },
     "execution_count": 23,
     "metadata": {},
     "output_type": "execute_result"
    }
   ],
   "source": [
    "B = A.flatten()\n",
    "np.mean(B)"
   ]
  },
  {
   "cell_type": "code",
   "execution_count": 24,
   "id": "e8902b8d",
   "metadata": {},
   "outputs": [
    {
     "data": {
      "text/plain": [
       "3.0"
      ]
     },
     "execution_count": 24,
     "metadata": {},
     "output_type": "execute_result"
    }
   ],
   "source": [
    "np.median(B)"
   ]
  },
  {
   "cell_type": "code",
   "execution_count": 25,
   "id": "c7699928",
   "metadata": {},
   "outputs": [
    {
     "data": {
      "text/plain": [
       "[-3, -1, 1, 2, 3, 3, 4, 6, 7]"
      ]
     },
     "execution_count": 25,
     "metadata": {},
     "output_type": "execute_result"
    }
   ],
   "source": [
    "sorted(B)"
   ]
  },
  {
   "cell_type": "code",
   "execution_count": 9,
   "id": "bfecc2dd",
   "metadata": {},
   "outputs": [
    {
     "data": {
      "text/plain": [
       "16777216"
      ]
     },
     "execution_count": 9,
     "metadata": {},
     "output_type": "execute_result"
    }
   ],
   "source": [
    "256*256*256"
   ]
  },
  {
   "cell_type": "markdown",
   "id": "0fce91d3",
   "metadata": {},
   "source": [
    "## 요점정리\n",
    "### 1) 리스트와 numpy array의 차이는 무엇인가?\n",
    "- 리스트는 다양한 자료형의 데이터를 여러 개 저장하고 변경할 수 있지만, 처리나 연산 기능이 부족하다.\n",
    "- numpy array는 동일한 자료형의 항목들만 저장할 수 있지만, 처리나 연산 기능이 매우 풍부하다.\n",
    "\n",
    "\n",
    "### 2) numpy의 array를 이용한 연산이 빠른 이유는 무엇인가?\n",
    "- 데이터 타입이 일관성이 있어 타입마다의 최적화된 연산을 수행합니다.\n",
    "- 벡터화 연산으로 반복문을 사용하지 않고도 배열 전체에 효율적인 연산을 수행합니다.\n",
    "\n",
    "### 3) 스칼라(scalar), 벡터(vector), 행렬(matrix), 텐서(tensor)는 무엇인가?\n",
    "- sccalar : 하나의 숫자로 표현되는 값으로 크기만 있고 방향은 없습니다.\n",
    "- vector : 크기와 방향을 모두 가지는 값입니다.\n",
    "- matrix : 행과 열로 배열\n",
    "- tensor : 위에서 말한 스칼라, 벡터, 행렬을 일반화 하는 것으로, 다차원 배열입니다.\n",
    "\n",
    "### 4) 중요한 메소드\n",
    "- ndim :배열 축이나 차원의 개수\n",
    "- shape : 배열의 차원(형식은 튜플 형), 각 차원의 원소의 크기를 알려주는 정수\n",
    "- reshape : 배열의 차원을 변경하는 기능을 한다.\n",
    "- dtype : 배열 내의 원소의 형을 기술하는 객체이다.\n",
    "\n",
    "### 5) 넘파이 배열(array)의 인덱싱, 슬라이싱에 대하여 설명하라\n",
    "- indexing : 배열의 특정 요소에 접근을 위해 사용한다.\n",
    "- 논리 인덱싱(logical indexing) : 조건에 맞는 요소들에 접근을 위해 사용한다.\n",
    "- slicing : 배열의 일부분을 선택하여 새로운 배열을 만들기 위해 사용한다.\n",
    "\n",
    "### 6) 평균(mean), 분산(variance), 표준편차(standard deviation). 중앙값(median)은 무엇인지 조사하라.\n",
    "- mean : 데이터의 산술 평균으로 모든 요소의 합을 요소의 개수로 나눈 값\n",
    "- variance : 데이터가 평균으로부터의 거리를 나타내는 것으로 각 요소가 평균으로부터의 거리를 제곱하여 평균한 값\n",
    "- standard deviation : 분산의 제곱근으로, 데이터가 평균으로부터 퍼진 정도를 나타낸다.(분산보다 더 직관적인 데이터의 분산 정도를 제공한다.)\n",
    "- median : 데이터 집합을 크기 순서대로 정렬할 때 중앙에 위치한 값이며 극단값의 영향을 받지 않는다.(짝수 개의 데이터 집합은 두 값의 평균으로 출력이 된다.)"
   ]
  },
  {
   "cell_type": "code",
   "execution_count": 33,
   "id": "7aa2026d",
   "metadata": {},
   "outputs": [
    {
     "name": "stdout",
     "output_type": "stream",
     "text": [
      "[[0 1 2 3 4]\n",
      " [5 6 7 8 9]]\n"
     ]
    },
    {
     "data": {
      "text/plain": [
       "4.5"
      ]
     },
     "execution_count": 33,
     "metadata": {},
     "output_type": "execute_result"
    }
   ],
   "source": [
    "import numpy as np\n",
    "\n",
    "a = np.arange(10)\n",
    "b = a.reshape(2, 5)\n",
    "print(b)\n",
    "c = b.reshape(-1)\n",
    "c.mean()"
   ]
  },
  {
   "cell_type": "code",
   "execution_count": 34,
   "id": "e0ca663d",
   "metadata": {},
   "outputs": [
    {
     "data": {
      "text/plain": [
       "4.5"
      ]
     },
     "execution_count": 34,
     "metadata": {},
     "output_type": "execute_result"
    }
   ],
   "source": [
    "np.mean(c)"
   ]
  },
  {
   "cell_type": "code",
   "execution_count": 35,
   "id": "f5181167",
   "metadata": {},
   "outputs": [
    {
     "data": {
      "text/plain": [
       "4.5"
      ]
     },
     "execution_count": 35,
     "metadata": {},
     "output_type": "execute_result"
    }
   ],
   "source": [
    "np.median(b)"
   ]
  },
  {
   "cell_type": "code",
   "execution_count": 22,
   "id": "a9773984",
   "metadata": {},
   "outputs": [
    {
     "data": {
      "text/plain": [
       "array([ 0.,  1.,  2.,  3.,  4.,  5.,  6.,  7.,  8.,  9., 10.])"
      ]
     },
     "execution_count": 22,
     "metadata": {},
     "output_type": "execute_result"
    }
   ],
   "source": [
    "np.linspace(0, 10, 11)"
   ]
  },
  {
   "cell_type": "code",
   "execution_count": null,
   "id": "864b09e9",
   "metadata": {},
   "outputs": [],
   "source": [
    "## 주관식 문제\n",
    "1. 넘파이(Numpy)\n",
    "2. 벡터합 연산\n",
    "3. import ~ as\n",
    "4. np\n",
    "5. 임의 접근(random access)\n",
    "6. 인덱스, 0\n",
    "7. row, col\n",
    "8. 텐서(tensor)\n",
    "9. linspace()\n",
    "10. reshape()\n",
    "11. flatten()\n",
    "12. mean(), median()\n",
    "13. 이상치(outlier)\n",
    "14. 동일한"
   ]
  },
  {
   "cell_type": "markdown",
   "id": "b627faed",
   "metadata": {},
   "source": [
    "## 심화문제"
   ]
  },
  {
   "cell_type": "markdown",
   "id": "41b055e2",
   "metadata": {},
   "source": [
    "### 10.1"
   ]
  },
  {
   "cell_type": "code",
   "execution_count": 47,
   "id": "3f6669ba",
   "metadata": {},
   "outputs": [
    {
     "name": "stdout",
     "output_type": "stream",
     "text": [
      "[ 1  2  3  4  5  6  7  8  9 10 11 12 13 14 15 16 17 18 19 20]\n",
      "[20 19 18 17 16 15 14 13 12 11 10  9  8  7  6  5  4  3  2  1]\n",
      "[[ 1  2  3  4]\n",
      " [ 5  6  7  8]\n",
      " [ 9 10 11 12]\n",
      " [13 14 15 16]\n",
      " [17 18 19 20]]\n"
     ]
    }
   ],
   "source": [
    "import numpy as np\n",
    "num_arr = np.arange(1, 21)\n",
    "print(num_arr)\n",
    "print(num_arr[::-1])\n",
    "#print(sorted(num_arr, reverse = True))\n",
    "\n",
    "print(num_arr.reshape(-1, 4))"
   ]
  },
  {
   "cell_type": "markdown",
   "id": "5be61ef2",
   "metadata": {},
   "source": [
    "### 10.2"
   ]
  },
  {
   "cell_type": "code",
   "execution_count": 45,
   "id": "d62afbc9",
   "metadata": {},
   "outputs": [
    {
     "name": "stdout",
     "output_type": "stream",
     "text": [
      "[[ 0  1  2  3  4]\n",
      " [ 5  6  7  8  9]\n",
      " [10 11 12 13 14]\n",
      " [15 16 17 18 19]\n",
      " [20 21 22 23 24]]\n"
     ]
    }
   ],
   "source": [
    "n_arr = np.arange(25).reshape(5, 5)\n",
    "print(n_arr)"
   ]
  },
  {
   "cell_type": "code",
   "execution_count": 46,
   "id": "aaca2057",
   "metadata": {},
   "outputs": [
    {
     "data": {
      "text/plain": [
       "(0, 24)"
      ]
     },
     "execution_count": 46,
     "metadata": {},
     "output_type": "execute_result"
    }
   ],
   "source": [
    "n_arr[0,0], n_arr[-1, -1]"
   ]
  },
  {
   "cell_type": "code",
   "execution_count": 48,
   "id": "12368460",
   "metadata": {},
   "outputs": [
    {
     "data": {
      "text/plain": [
       "24"
      ]
     },
     "execution_count": 48,
     "metadata": {},
     "output_type": "execute_result"
    }
   ],
   "source": [
    "n_arr.flatten()[-1]"
   ]
  },
  {
   "cell_type": "code",
   "execution_count": 55,
   "id": "cf2c9268",
   "metadata": {},
   "outputs": [
    {
     "data": {
      "text/plain": [
       "array([[0, 1, 2, 3, 4],\n",
       "       [5, 6, 7, 8, 9]])"
      ]
     },
     "execution_count": 55,
     "metadata": {},
     "output_type": "execute_result"
    }
   ],
   "source": [
    "n_arr[:2]"
   ]
  },
  {
   "cell_type": "code",
   "execution_count": 56,
   "id": "28a0c8bb",
   "metadata": {},
   "outputs": [
    {
     "data": {
      "text/plain": [
       "array([[10, 11, 12, 13, 14],\n",
       "       [15, 16, 17, 18, 19],\n",
       "       [20, 21, 22, 23, 24]])"
      ]
     },
     "execution_count": 56,
     "metadata": {},
     "output_type": "execute_result"
    }
   ],
   "source": [
    "n_arr[2:]"
   ]
  },
  {
   "cell_type": "code",
   "execution_count": 58,
   "id": "b4a47dcf",
   "metadata": {},
   "outputs": [
    {
     "data": {
      "text/plain": [
       "array([[ 0,  2,  4],\n",
       "       [ 5,  7,  9],\n",
       "       [10, 12, 14],\n",
       "       [15, 17, 19],\n",
       "       [20, 22, 24]])"
      ]
     },
     "execution_count": 58,
     "metadata": {},
     "output_type": "execute_result"
    }
   ],
   "source": [
    "n_arr[:, ::2]"
   ]
  },
  {
   "cell_type": "code",
   "execution_count": 60,
   "id": "ada9bcf1",
   "metadata": {},
   "outputs": [
    {
     "data": {
      "text/plain": [
       "array([[ 0,  2,  4],\n",
       "       [10, 12, 14],\n",
       "       [20, 22, 24]])"
      ]
     },
     "execution_count": 60,
     "metadata": {},
     "output_type": "execute_result"
    }
   ],
   "source": [
    "n_arr[::2, ::2]"
   ]
  },
  {
   "cell_type": "code",
   "execution_count": 62,
   "id": "5fa9d130",
   "metadata": {},
   "outputs": [
    {
     "data": {
      "text/plain": [
       "array([[0, 1],\n",
       "       [2, 3],\n",
       "       [4, 5],\n",
       "       [6, 7],\n",
       "       [8, 9]])"
      ]
     },
     "execution_count": 62,
     "metadata": {},
     "output_type": "execute_result"
    }
   ],
   "source": [
    "n_arr[:2].reshape(5, 2)"
   ]
  },
  {
   "cell_type": "markdown",
   "id": "f3f7be2d",
   "metadata": {},
   "source": [
    "### 10.3"
   ]
  },
  {
   "cell_type": "code",
   "execution_count": 64,
   "id": "01470a4e",
   "metadata": {},
   "outputs": [
    {
     "data": {
      "text/plain": [
       "array([[[0.37454012, 0.95071431, 0.73199394],\n",
       "        [0.59865848, 0.15601864, 0.15599452],\n",
       "        [0.05808361, 0.86617615, 0.60111501]],\n",
       "\n",
       "       [[0.70807258, 0.02058449, 0.96990985],\n",
       "        [0.83244264, 0.21233911, 0.18182497],\n",
       "        [0.18340451, 0.30424224, 0.52475643]],\n",
       "\n",
       "       [[0.43194502, 0.29122914, 0.61185289],\n",
       "        [0.13949386, 0.29214465, 0.36636184],\n",
       "        [0.45606998, 0.78517596, 0.19967378]]])"
      ]
     },
     "execution_count": 64,
     "metadata": {},
     "output_type": "execute_result"
    }
   ],
   "source": [
    "np.random.seed(42)\n",
    "r = np.random.rand(3, 3, 3)\n",
    "r"
   ]
  },
  {
   "cell_type": "code",
   "execution_count": 65,
   "id": "9ddeb001",
   "metadata": {},
   "outputs": [
    {
     "data": {
      "text/plain": [
       "0.9699098521619943"
      ]
     },
     "execution_count": 65,
     "metadata": {},
     "output_type": "execute_result"
    }
   ],
   "source": [
    "np.max(r)"
   ]
  },
  {
   "cell_type": "code",
   "execution_count": 66,
   "id": "8de3d05b",
   "metadata": {},
   "outputs": [
    {
     "data": {
      "text/plain": [
       "11"
      ]
     },
     "execution_count": 66,
     "metadata": {},
     "output_type": "execute_result"
    }
   ],
   "source": [
    "np.argmax(r)"
   ]
  },
  {
   "cell_type": "code",
   "execution_count": 67,
   "id": "5502e7de",
   "metadata": {},
   "outputs": [
    {
     "data": {
      "text/plain": [
       "0.44462291640472046"
      ]
     },
     "execution_count": 67,
     "metadata": {},
     "output_type": "execute_result"
    }
   ],
   "source": [
    "np.mean(r)"
   ]
  },
  {
   "cell_type": "markdown",
   "id": "aeae9dff",
   "metadata": {},
   "source": [
    "### 10.4"
   ]
  },
  {
   "cell_type": "code",
   "execution_count": 129,
   "id": "fa635a74",
   "metadata": {},
   "outputs": [
    {
     "data": {
      "text/plain": [
       "array([[1, 0, 1, 0, 1, 0, 1],\n",
       "       [0, 1, 0, 1, 0, 1, 0],\n",
       "       [1, 0, 1, 0, 1, 0, 1],\n",
       "       [0, 1, 0, 1, 0, 1, 0],\n",
       "       [1, 0, 1, 0, 1, 0, 1]])"
      ]
     },
     "execution_count": 129,
     "metadata": {},
     "output_type": "execute_result"
    }
   ],
   "source": [
    "a = np.ones(35, dtype ='int')\n",
    "a[1::2] = 0\n",
    "a = a.reshape(5, -1)\n",
    "a"
   ]
  },
  {
   "cell_type": "code",
   "execution_count": 103,
   "id": "d35988fd",
   "metadata": {},
   "outputs": [
    {
     "data": {
      "text/plain": [
       "array([1, 0, 1, 0, 1, 0, 1, 0, 1, 0, 1, 0, 1, 0, 1, 0, 1, 0, 1, 0, 1, 0,\n",
       "       1, 0, 1])"
      ]
     },
     "execution_count": 103,
     "metadata": {},
     "output_type": "execute_result"
    }
   ],
   "source": [
    "a = np.zeros(35, dtype = 'int')\n",
    "a[::2] = 1\n",
    "a"
   ]
  },
  {
   "cell_type": "code",
   "execution_count": 130,
   "id": "5f79310a",
   "metadata": {},
   "outputs": [
    {
     "data": {
      "text/plain": [
       "array([3, 2, 3, 2, 3, 2, 3])"
      ]
     },
     "execution_count": 130,
     "metadata": {},
     "output_type": "execute_result"
    }
   ],
   "source": [
    "np.sum(a, axis=0)"
   ]
  },
  {
   "cell_type": "code",
   "execution_count": 131,
   "id": "df7375fb",
   "metadata": {},
   "outputs": [
    {
     "data": {
      "text/plain": [
       "array([4, 3, 4, 3, 4])"
      ]
     },
     "execution_count": 131,
     "metadata": {},
     "output_type": "execute_result"
    }
   ],
   "source": [
    "np.sum(a, axis=1)"
   ]
  },
  {
   "cell_type": "markdown",
   "id": "a3e55eb8",
   "metadata": {},
   "source": [
    "### 10.5"
   ]
  },
  {
   "cell_type": "code",
   "execution_count": 112,
   "id": "1a289e5c",
   "metadata": {},
   "outputs": [
    {
     "data": {
      "text/plain": [
       "9"
      ]
     },
     "execution_count": 112,
     "metadata": {},
     "output_type": "execute_result"
    }
   ],
   "source": [
    "a = np.arange(32).reshape(4, 4, 2)\n",
    "a.reshape(-1)[9]"
   ]
  },
  {
   "cell_type": "code",
   "execution_count": 132,
   "id": "5c432f10",
   "metadata": {},
   "outputs": [
    {
     "data": {
      "text/plain": [
       "19"
      ]
     },
     "execution_count": 132,
     "metadata": {},
     "output_type": "execute_result"
    }
   ],
   "source": [
    "a = np.arange(32).reshape(4, 4, 2)\n",
    "a.reshape(-1)[19]"
   ]
  },
  {
   "cell_type": "markdown",
   "id": "ea750137",
   "metadata": {},
   "source": [
    "### 10.6"
   ]
  },
  {
   "cell_type": "code",
   "execution_count": 124,
   "id": "ab5a511a",
   "metadata": {},
   "outputs": [
    {
     "data": {
      "text/plain": [
       "array([[ 1.        ,  0.99595841,  0.9075906 , -0.05176113],\n",
       "       [ 0.99595841,  1.        ,  0.9040814 , -0.0646926 ],\n",
       "       [ 0.9075906 ,  0.9040814 ,  1.        ,  0.00701359],\n",
       "       [-0.05176113, -0.0646926 ,  0.00701359,  1.        ]])"
      ]
     },
     "execution_count": 124,
     "metadata": {},
     "output_type": "execute_result"
    }
   ],
   "source": [
    "x1 = np.arange(100)\n",
    "x2 = x1 + np.random.randint(1, 10, size = (100,))\n",
    "x3 = x1 + np.random.randint(1, 50, size = (100,))\n",
    "x4 = np.random.randint(1, 100, size = (100,))\n",
    "np.corrcoef([x1,x2, x3, x4])"
   ]
  },
  {
   "cell_type": "code",
   "execution_count": 126,
   "id": "8f95680a",
   "metadata": {},
   "outputs": [
    {
     "data": {
      "image/png": "[encoded data removed]",
      "text/plain": [
       "<Figure size 432x288 with 1 Axes>"
      ]
     },
     "metadata": {
      "needs_background": "light"
     },
     "output_type": "display_data"
    }
   ],
   "source": [
    "import matplotlib.pyplot as plt\n",
    "\n",
    "plt.plot(x1, x2, 'ro', label = 'x2', alpha = 0.5)\n",
    "plt.plot(x1, x3, 'b*', label = 'x3', alpha = 0.5)\n",
    "plt.plot(x1, x4, 'k*', label = 'x4', alpha = 0.5)\n",
    "plt.legend()\n",
    "plt.grid()\n",
    "plt.show()"
   ]
  }
 ],
 "metadata": {
  "kernelspec": {
   "display_name": "Python 3 (ipykernel)",
   "language": "python",
   "name": "python3"
  },
  "language_info": {
   "codemirror_mode": {
    "name": "ipython",
    "version": 3
   },
   "file_extension": ".py",
   "mimetype": "text/x-python",
   "name": "python",
   "nbconvert_exporter": "python",
   "pygments_lexer": "ipython3",
   "version": "3.9.7"
  }
 },
 "nbformat": 4,
 "nbformat_minor": 5
}

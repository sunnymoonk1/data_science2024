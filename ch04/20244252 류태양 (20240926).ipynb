{
 "cells": [
  {
   "cell_type": "markdown",
   "id": "41b7457d",
   "metadata": {},
   "source": [
    "# 20244252 류태양 (20240926)  \n",
    "- 4장. 조건을 따져 실행해 보자  \n",
    "- 류태양  \n",
    "- 20244252  "
   ]
  },
  {
   "cell_type": "markdown",
   "id": "60a35d02",
   "metadata": {},
   "source": [
    "## 오늘 배운 내용  \n",
    "1.  if 조건문과 추가 조건을 할 때 사용하는 elif와 else에 대해 배웠습니다.\n",
    "2.  in과 random 함수에 대해 배웠습니다."
   ]
  },
  {
   "cell_type": "markdown",
   "id": "b26a52fd",
   "metadata": {},
   "source": [
    "## 어려운 점들  \n",
    "1. if 안에 if를 넣을 때 좀 햇갈렸습니다.\n",
    "2.  ==와 =를 넣어야 하는 곳이 헷갈렸습니다."
   ]
  },
  {
   "cell_type": "markdown",
   "id": "a3e8f40c",
   "metadata": {},
   "source": [
    "## 조건문의 세가지 형식을 적어라.\n",
    "1. if문\n",
    "2. 조건식 (클론)\n",
    "3. 들여쓰기  (블록)"
   ]
  },
  {
   "cell_type": "markdown",
   "id": "00ceea08",
   "metadata": {},
   "source": [
    "## 주관식 문제\n",
    "1. 순차 구조  \n",
    "2. 선택 구조  \n",
    "3. 반복 구조  \n",
    "4. 조건식, 부울(bool)  \n",
    "5. 참(True), 거짓(False)  \n",
    "6. =, ==  \n",
    "7. if-elif-else  \n",
    "8. :(콜론)  \n",
    "9. if, else  \n",
    "10. elif    \n",
    "11. 내부 if 블록, 중첩 if 블록  \n",
    "12. import turtle  "
   ]
  },
  {
   "cell_type": "markdown",
   "id": "cf1f574e",
   "metadata": {},
   "source": [
    "## 심화문제"
   ]
  },
  {
   "cell_type": "markdown",
   "id": "36479ab9",
   "metadata": {},
   "source": [
    "## 4.1"
   ]
  },
  {
   "cell_type": "code",
   "execution_count": 21,
   "id": "0f324518",
   "metadata": {},
   "outputs": [
    {
     "name": "stdout",
     "output_type": "stream",
     "text": [
      "알파벳을 입력하시오: a\n",
      "a (은)는 모음입니다.\n"
     ]
    }
   ],
   "source": [
    "#1\n",
    "word = input('알파벳을 입력하시오: ')\n",
    "if word in 'aeiou' :\n",
    "    print(word,'(은)는 모음입니다.')\n",
    "else :\n",
    "    print(word,'(은)는 자음입니다.')"
   ]
  },
  {
   "cell_type": "markdown",
   "id": "04bcba99",
   "metadata": {},
   "source": [
    "## LAB 4.4"
   ]
  },
  {
   "cell_type": "code",
   "execution_count": 32,
   "id": "27b8ec5a",
   "metadata": {},
   "outputs": [
    {
     "name": "stdout",
     "output_type": "stream",
     "text": [
      "년도를 입력하세요: 40\n",
      "40 는 윤년입니다.\n"
     ]
    }
   ],
   "source": [
    "#2\n",
    "year = int(input('년도를 입력하세요: '))\n",
    "if  (year % 4 == 0) and (year % 100 != 0) or (year % 400 == 0):\n",
    "    print(year,'는 윤년입니다.')\n",
    "else:\n",
    "    print(year,'는 윤년이 아닙니다.')"
   ]
  },
  {
   "cell_type": "markdown",
   "id": "3295eb58",
   "metadata": {},
   "source": [
    "## 4.3"
   ]
  },
  {
   "cell_type": "code",
   "execution_count": 39,
   "id": "a1cb5374",
   "metadata": {},
   "outputs": [
    {
     "name": "stdout",
     "output_type": "stream",
     "text": [
      "나이를 입력하세요:9\n",
      "kid\n"
     ]
    }
   ],
   "source": [
    "#3\n",
    "age = int(input('나이를 입력하세요:'))\n",
    "if (age >= 20) :\n",
    "    print('adult')\n",
    "elif (age >= 10) :\n",
    "    print('youth')\n",
    "else :\n",
    "    print('kid')"
   ]
  },
  {
   "cell_type": "markdown",
   "id": "2caabf09",
   "metadata": {},
   "source": [
    "## 4.5"
   ]
  },
  {
   "cell_type": "code",
   "execution_count": 69,
   "id": "50be6d82",
   "metadata": {},
   "outputs": [
    {
     "name": "stdout",
     "output_type": "stream",
     "text": [
      "세 복권 번호를 입력하시오 : 1 2 3\n",
      "6 0 5\n",
      "다음 기회에...\n"
     ]
    }
   ],
   "source": [
    "#4\n",
    "import random\n",
    "a, b, c = random.randint(0,9), random.randint(0,9), random.randint(0,9)\n",
    "\n",
    "x, y, z = map(int, input('세 복권 번호를 입력하시오 : ').split())\n",
    "\n",
    "# x = int(x)\n",
    "# y = int(y)\n",
    "# z = int(z)\n",
    "print(a , b , c)\n",
    "\n",
    "count = 0\n",
    "if x == a or x == b or x == c :\n",
    "    count += 1\n",
    "\n",
    "if y == a or y == b or y == c :\n",
    "    count += 1\n",
    "\n",
    "if z == a or z == b or z == c :\n",
    "    count += 1\n",
    "\n",
    "if count == 3 :\n",
    "    print('상금 1억원')\n",
    "elif count == 2 :\n",
    "    print('상금 1천만원')\n",
    "elif count == 1 :\n",
    "    print('상금 1만원')\n",
    "else :\n",
    "    print('다음 기회에...')"
   ]
  },
  {
   "cell_type": "code",
   "execution_count": 73,
   "id": "0e423e32",
   "metadata": {},
   "outputs": [
    {
     "name": "stdout",
     "output_type": "stream",
     "text": [
      "a정수를 입력하시오. : 50\n",
      "b정수를 입력하시오. : 30\n",
      "50 30\n"
     ]
    }
   ],
   "source": [
    "#5\n",
    "a = int(input('a정수를 입력하시오. : '))\n",
    "b = int(input('b정수를 입력하시오. : '))\n",
    "if a > b:\n",
    "    print(a,b)\n",
    "else:\n",
    "    print(b,a)"
   ]
  },
  {
   "cell_type": "code",
   "execution_count": 74,
   "id": "54622da8",
   "metadata": {},
   "outputs": [
    {
     "name": "stdout",
     "output_type": "stream",
     "text": [
      "50 30\n"
     ]
    }
   ],
   "source": [
    "#6\n",
    "if a< b :\n",
    "    a, b = b, a\n",
    "\n",
    "print(a,b)"
   ]
  },
  {
   "cell_type": "code",
   "execution_count": 101,
   "id": "5d06c062",
   "metadata": {},
   "outputs": [],
   "source": [
    "#7\n",
    "a, b = 35, 50\n",
    "\n",
    "z = b\n",
    "a = b\n",
    "b = z"
   ]
  }
 ],
 "metadata": {
  "kernelspec": {
   "display_name": "Python 3 (ipykernel)",
   "language": "python",
   "name": "python3"
  },
  "language_info": {
   "codemirror_mode": {
    "name": "ipython",
    "version": 3
   },
   "file_extension": ".py",
   "mimetype": "text/x-python",
   "name": "python",
   "nbconvert_exporter": "python",
   "pygments_lexer": "ipython3",
   "version": "3.9.7"
  }
 },
 "nbformat": 4,
 "nbformat_minor": 5
}

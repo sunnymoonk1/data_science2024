{
 "cells": [
  {
   "cell_type": "markdown",
   "id": "5ad9ab83",
   "metadata": {},
   "source": [
    "## 20244252\n",
    "- 이름 : 류태양\n",
    "- 학번 : (20244252)"
   ]
  },
  {
   "cell_type": "markdown",
   "id": "6231cbd8",
   "metadata": {},
   "source": [
    "## 오늘 배운 내용\n",
    "1. 처음으로 https://meet.google.com/mob-higr-nix를 켰다.\n",
    "2. input이라는 변수를 쓰기 시작했다.\n",
    "3. \\\\로 \\를 출력했다."
   ]
  },
  {
   "cell_type": "markdown",
   "id": "2141a917",
   "metadata": {},
   "source": [
    "## 어려운 점들  \n",
    "1. 프로그래밍들을 짜면서 오류가 너무 많았다."
   ]
  },
  {
   "cell_type": "markdown",
   "id": "a88b67c3",
   "metadata": {},
   "source": [
    "## 주관식 문제"
   ]
  },
  {
   "cell_type": "markdown",
   "id": "c7155ca8",
   "metadata": {},
   "source": [
    "2.1 변수"
   ]
  },
  {
   "cell_type": "markdown",
   "id": "a8b01cea",
   "metadata": {},
   "source": [
    "2.2 할당연산자, 대입연산자"
   ]
  },
  {
   "cell_type": "markdown",
   "id": "168fbcc4",
   "metadata": {},
   "source": [
    "2.3 동시 할동문"
   ]
  },
  {
   "cell_type": "markdown",
   "id": "f49062fd",
   "metadata": {},
   "source": [
    "2.4 식별자"
   ]
  },
  {
   "cell_type": "markdown",
   "id": "0662e2ff",
   "metadata": {},
   "source": [
    "2.5 함수"
   ]
  },
  {
   "cell_type": "markdown",
   "id": "1cf8032b",
   "metadata": {},
   "source": [
    "2.6 메모리 주소(memory address)"
   ]
  },
  {
   "cell_type": "markdown",
   "id": "cec18463",
   "metadata": {},
   "source": [
    "2.7 자료형(data type)"
   ]
  },
  {
   "cell_type": "markdown",
   "id": "e1cdd96d",
   "metadata": {},
   "source": [
    "2.8 정수, 실수, 문자열, 부울"
   ]
  },
  {
   "cell_type": "markdown",
   "id": "398ea46a",
   "metadata": {},
   "source": [
    "2.9 type()"
   ]
  },
  {
   "cell_type": "markdown",
   "id": "34605fd9",
   "metadata": {},
   "source": [
    "2.10 메소드"
   ]
  },
  {
   "cell_type": "markdown",
   "id": "34fbafef",
   "metadata": {},
   "source": [
    "2.11 상수"
   ]
  },
  {
   "cell_type": "markdown",
   "id": "24e0d021",
   "metadata": {},
   "source": [
    "## 식별자 만드는 규칙  \n",
    "1. 식별자는 문자와 숫자, 밑줄 문자(_)로 이루어지며 밑줄 문자 이외의 특수 문자를 사용할 수 없다.\n",
    "2. 식별자의 첫 글자는 숫자로 시작할 수 없다. 또한 중간에 공백을 가질 수 없다.\n",
    "3. 대문자와 소문자는 구별된다. 따라서 변수 index와 INDEX은 서로 다른 변수이다.\n",
    "4. 파이썬의 예약어(키워드)는 식별자로 사용할 수 없다."
   ]
  },
  {
   "cell_type": "markdown",
   "id": "06756102",
   "metadata": {},
   "source": [
    "## 2장 심화문제"
   ]
  },
  {
   "cell_type": "code",
   "execution_count": 2,
   "id": "12cee0e2",
   "metadata": {},
   "outputs": [
    {
     "name": "stdout",
     "output_type": "stream",
     "text": [
      "100 + 200 = 300\n",
      "200 + 300 + 400 = 900\n"
     ]
    }
   ],
   "source": [
    "#2.1\n",
    "print(100, '+', 200, '=', 100 + 200 )\n",
    "print(200, '+', 300, '+', 400, '=', 200 + 300 + 400 )"
   ]
  },
  {
   "cell_type": "code",
   "execution_count": 3,
   "id": "7af46aa7",
   "metadata": {},
   "outputs": [
    {
     "name": "stdout",
     "output_type": "stream",
     "text": [
      "30\n",
      "60\n"
     ]
    }
   ],
   "source": [
    "#2.2\n",
    "width = 30\n",
    "height = 60\n",
    "print(width)\n",
    "print(height)"
   ]
  },
  {
   "cell_type": "code",
   "execution_count": 6,
   "id": "a8832ef7",
   "metadata": {},
   "outputs": [
    {
     "name": "stdout",
     "output_type": "stream",
     "text": [
      "30\n",
      "60\n"
     ]
    }
   ],
   "source": [
    "#2.3\n",
    "width, height = 30, 60\n",
    "print(width)\n",
    "print(height)"
   ]
  },
  {
   "cell_type": "code",
   "execution_count": 18,
   "id": "1575311d",
   "metadata": {},
   "outputs": [
    {
     "name": "stdout",
     "output_type": "stream",
     "text": [
      "삼각형의 면적 : 400.0\n"
     ]
    }
   ],
   "source": [
    "#1)\n",
    "!python 20244252_류태양(202409125).ipynb.txt"
   ]
  },
  {
   "cell_type": "code",
   "execution_count": 13,
   "id": "1e754b12",
   "metadata": {},
   "outputs": [
    {
     "name": "stdout",
     "output_type": "stream",
     "text": [
      "삼각형의 면적 : 400.0\n"
     ]
    }
   ],
   "source": [
    "#2.4\n",
    "width, height = 40, 20\n",
    "area = width * height /2\n",
    "print('삼각형의 면적 :', area)"
   ]
  },
  {
   "cell_type": "code",
   "execution_count": 14,
   "id": "d571f793",
   "metadata": {},
   "outputs": [
    {
     "name": "stdout",
     "output_type": "stream",
     "text": [
      "정사각형의 밑변을 입력하시오 :10\n",
      "정사각형의 면적 : 100\n"
     ]
    }
   ],
   "source": [
    "#2.5-1\n",
    "s = int(input('정사각형의 밑변을 입력하시오 :'))\n",
    "print('정사각형의 면적 :',s ** 2)"
   ]
  },
  {
   "cell_type": "code",
   "execution_count": null,
   "id": "1e3f13a2",
   "metadata": {},
   "outputs": [],
   "source": [
    "#2.5-2 \n",
    "width = input('정사각형의 밑변을 입력하시오 :')\n",
    "width = int(width)\n",
    "\n",
    "print('정사각형의 면적 : ', width * width)"
   ]
  },
  {
   "cell_type": "code",
   "execution_count": 17,
   "id": "185b1f4c",
   "metadata": {},
   "outputs": [
    {
     "name": "stdout",
     "output_type": "stream",
     "text": [
      "1애서 10까지의 합 : 55\n"
     ]
    }
   ],
   "source": [
    "#2.6\n",
    "i = 1 + 2 + 3 + 4 + 5 + 6 + 7 +8 + 9 + 10\n",
    "print('1애서 10까지의 합 :', i)"
   ]
  },
  {
   "cell_type": "code",
   "execution_count": null,
   "id": "f6d027ff",
   "metadata": {},
   "outputs": [],
   "source": [
    "#2.7\n",
    "i = 1*2*3*4*5*6*7*8*9*10\n",
    "print('10! =', i)"
   ]
  },
  {
   "cell_type": "code",
   "execution_count": 34,
   "id": "69150749",
   "metadata": {},
   "outputs": [],
   "source": [
    "#2.8\n",
    "fahrenheit = (9/5) * celsius + 32"
   ]
  },
  {
   "cell_type": "code",
   "execution_count": 43,
   "id": "28829dca",
   "metadata": {},
   "outputs": [
    {
     "name": "stdout",
     "output_type": "stream",
     "text": [
      "섭씨 화씨\n",
      "0 32.0\n",
      "10 50.0\n",
      "20 68.0\n",
      "30 86.0\n",
      "40 104.0\n",
      "50 122.0\n"
     ]
    }
   ],
   "source": [
    "#2.8-1\n",
    "print('섭씨 화씨')\n",
    "print(0, (9 /5) * 0+ 32)\n",
    "print(10, (9/5) * 10+ 32)\n",
    "print(20, (9/5) * 20+ 32)\n",
    "print(30, (9/5) * 30+ 32)\n",
    "print(40, (9/5) * 40+ 32)\n",
    "print(50, (9/5) * 50+ 32)"
   ]
  },
  {
   "cell_type": "code",
   "execution_count": 2,
   "id": "cff13c30",
   "metadata": {},
   "outputs": [
    {
     "name": "stdin",
     "output_type": "stream",
     "text": [
      "섭씨온도를 입력하세요 : 50\n"
     ]
    },
    {
     "name": "stdout",
     "output_type": "stream",
     "text": [
      "섭씨 50 도는 화씨 122.0 도 입니다.\n"
     ]
    }
   ],
   "source": [
    "#2.9\n",
    "c = int(input('섭씨온도를 입력하세요 :'))\n",
    "f = 9/5 * c + 32\n",
    "print('섭씨', c,'도는 화씨', f,'도 입니다.')"
   ]
  },
  {
   "cell_type": "code",
   "execution_count": 3,
   "id": "561d830f",
   "metadata": {},
   "outputs": [
    {
     "name": "stdin",
     "output_type": "stream",
     "text": [
      "원의 반지름을 입력하세요:  50\n"
     ]
    },
    {
     "name": "stdout",
     "output_type": "stream",
     "text": [
      "원의 둘레 = 314.1592 원의 면적 = 7853.98\n"
     ]
    }
   ],
   "source": [
    "#2.10\n",
    "r = float(input('원의 반지름을 입력하세요: '))\n",
    "PI = 3.141592\n",
    "\n",
    "print('원의 둘레 =', 2 * PI * r, '원의 면적 =', PI * r * r)"
   ]
  },
  {
   "cell_type": "code",
   "execution_count": 7,
   "id": "c46b1ad5",
   "metadata": {},
   "outputs": [
    {
     "name": "stdout",
     "output_type": "stream",
     "text": [
      "It's really hot!\n",
      "I said \"Hello!\" to him.\n",
      "He said \"What's there?\"\n",
      "Newline character is \\n, Tab character is \\t.\n",
      "Working directory is C:\\workspace\\mywork.\n"
     ]
    }
   ],
   "source": [
    "print(\"It's really hot!\")\n",
    "print('I said \"Hello!\" to him.')\n",
    "print('He said \"What\\'s there?\"')\n",
    "print('Newline character is \\\\n, Tab character is \\\\t.')\n",
    "print('Working directory is C:\\\\workspace\\\\mywork.')"
   ]
  },
  {
   "cell_type": "code",
   "execution_count": null,
   "id": "eafda568",
   "metadata": {},
   "outputs": [],
   "source": []
  }
 ],
 "metadata": {
  "kernelspec": {
   "display_name": "Python 3 (ipykernel)",
   "language": "python",
   "name": "python3"
  },
  "language_info": {
   "codemirror_mode": {
    "name": "ipython",
    "version": 3
   },
   "file_extension": ".py",
   "mimetype": "text/x-python",
   "name": "python",
   "nbconvert_exporter": "python",
   "pygments_lexer": "ipython3",
   "version": "3.9.7"
  }
 },
 "nbformat": 4,
 "nbformat_minor": 5
}
